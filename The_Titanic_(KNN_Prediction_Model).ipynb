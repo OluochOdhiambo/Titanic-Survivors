{
  "nbformat": 4,
  "nbformat_minor": 0,
  "metadata": {
    "colab": {
      "name": "The Titanic (KNN Prediction Model)",
      "provenance": [],
      "toc_visible": true
    },
    "kernelspec": {
      "name": "python3",
      "display_name": "Python 3"
    }
  },
  "cells": [
    {
      "cell_type": "markdown",
      "metadata": {
        "id": "M_0JogbSgwra",
        "colab_type": "text"
      },
      "source": [
        ""
      ]
    },
    {
      "cell_type": "markdown",
      "metadata": {
        "id": "S92C2LEivNFS",
        "colab_type": "text"
      },
      "source": [
        "## 1. Defining the question"
      ]
    },
    {
      "cell_type": "markdown",
      "metadata": {
        "id": "wPmQkv5hvmHk",
        "colab_type": "text"
      },
      "source": [
        "### a) Specifying the question\n",
        "Build a model that predicts whether or not a passenger survived the titanic catastrophe"
      ]
    },
    {
      "cell_type": "markdown",
      "metadata": {
        "id": "oC0c75GUvohL",
        "colab_type": "text"
      },
      "source": [
        "###b) Defining the Metrics for success\n",
        "i. To build a model that predicts whether or not a passenger survived the titanic with an f1 score of 80+ %\n",
        "\n",
        "\n",
        "ii. To identfy the most important features in predicting a passengers survival chances\n",
        "\n",
        "iii. To identify the ideal training_test split size for the best model accuracy."
      ]
    },
    {
      "cell_type": "markdown",
      "metadata": {
        "id": "l5HOm7AQvvCk",
        "colab_type": "text"
      },
      "source": [
        "### c) Understanding the context\n",
        "The RMS Titanic was a British ship that sank in the North Atlantic Ocean during her maiden voyage from Southampton to New York. At the time, the Titanic was the largest ship a float and it is no surprise that the tragedy resulted in the death of more than 1500 people out of a total 2,224 passengers and crew members. Some of the factors that contributed to the tragedy involved the weak maritime safety measures that were implemented at the time which meant that the Titanic was permitted to sail while it only carried enough life boats for about 1,178 people. Although much has been done to strengthen the safety regulations of such large ships, the disaster can provide a lesson on some of the key factors that helped the survivors which can be used in future to structure better evacuation plans and mitigate loss of lives."
      ]
    },
    {
      "cell_type": "markdown",
      "metadata": {
        "id": "qonzyN1ev0TR",
        "colab_type": "text"
      },
      "source": [
        "### d) Recording the experimental design\n",
        "For this experiemnt, I will:\n",
        "*   Load and preview the data set\n",
        "*   Prepare the data\n",
        "*   Perform Exploratory Data Analysis i.e Univariate, Bivariate and Multivariate analysis \n",
        "*   Train the model (K-Nearest-Neighbors)\n",
        "*   Evaluate and optimize the model (Cross-validation & Feature Reduction)\n",
        "*   Draw conclusions and make recommendations"
      ]
    },
    {
      "cell_type": "markdown",
      "metadata": {
        "id": "lGxZC8aawDQR",
        "colab_type": "text"
      },
      "source": [
        "### e) Data Relevance\n",
        "The data is relevant as it contains passenger information as they are are related to the Titanic which includes their survival status, the passenger class, gender, age, siblings aboard, parents aboard, the fare prices, cabin, and their port of embarkation."
      ]
    },
    {
      "cell_type": "markdown",
      "metadata": {
        "id": "aclSo_0Lhq8W",
        "colab_type": "text"
      },
      "source": [
        "## 2. Reading the data"
      ]
    },
    {
      "cell_type": "code",
      "metadata": {
        "id": "pW4969Kwys9H",
        "colab_type": "code",
        "colab": {}
      },
      "source": [
        "# Import relevant libraries \n",
        "import pandas as pd\n",
        "import numpy as np\n",
        "import matplotlib.pyplot as plt\n",
        "import seaborn as sns\n",
        "import warnings\n",
        "warnings.filterwarnings(\"ignore\")"
      ],
      "execution_count": 66,
      "outputs": []
    },
    {
      "cell_type": "code",
      "metadata": {
        "id": "GNYXfcBkhoIt",
        "colab_type": "code",
        "colab": {
          "base_uri": "https://localhost:8080/",
          "height": 247
        },
        "outputId": "3ea3ea53-6274-4c06-97ab-42f3944bc255"
      },
      "source": [
        "# Read csv file\n",
        "titanic =  pd.read_csv('titanic.csv')\n",
        "\n",
        "# Preview first five rows\n",
        "titanic.head()"
      ],
      "execution_count": 67,
      "outputs": [
        {
          "output_type": "execute_result",
          "data": {
            "text/html": [
              "<div>\n",
              "<style scoped>\n",
              "    .dataframe tbody tr th:only-of-type {\n",
              "        vertical-align: middle;\n",
              "    }\n",
              "\n",
              "    .dataframe tbody tr th {\n",
              "        vertical-align: top;\n",
              "    }\n",
              "\n",
              "    .dataframe thead th {\n",
              "        text-align: right;\n",
              "    }\n",
              "</style>\n",
              "<table border=\"1\" class=\"dataframe\">\n",
              "  <thead>\n",
              "    <tr style=\"text-align: right;\">\n",
              "      <th></th>\n",
              "      <th>PassengerId</th>\n",
              "      <th>Survived</th>\n",
              "      <th>Pclass</th>\n",
              "      <th>Name</th>\n",
              "      <th>Sex</th>\n",
              "      <th>Age</th>\n",
              "      <th>SibSp</th>\n",
              "      <th>Parch</th>\n",
              "      <th>Ticket</th>\n",
              "      <th>Fare</th>\n",
              "      <th>Cabin</th>\n",
              "      <th>Embarked</th>\n",
              "    </tr>\n",
              "  </thead>\n",
              "  <tbody>\n",
              "    <tr>\n",
              "      <th>0</th>\n",
              "      <td>1</td>\n",
              "      <td>0</td>\n",
              "      <td>3</td>\n",
              "      <td>Braund, Mr. Owen Harris</td>\n",
              "      <td>male</td>\n",
              "      <td>22.0</td>\n",
              "      <td>1</td>\n",
              "      <td>0</td>\n",
              "      <td>A/5 21171</td>\n",
              "      <td>7.2500</td>\n",
              "      <td>NaN</td>\n",
              "      <td>S</td>\n",
              "    </tr>\n",
              "    <tr>\n",
              "      <th>1</th>\n",
              "      <td>2</td>\n",
              "      <td>1</td>\n",
              "      <td>1</td>\n",
              "      <td>Cumings, Mrs. John Bradley (Florence Briggs Th...</td>\n",
              "      <td>female</td>\n",
              "      <td>38.0</td>\n",
              "      <td>1</td>\n",
              "      <td>0</td>\n",
              "      <td>PC 17599</td>\n",
              "      <td>71.2833</td>\n",
              "      <td>C85</td>\n",
              "      <td>C</td>\n",
              "    </tr>\n",
              "    <tr>\n",
              "      <th>2</th>\n",
              "      <td>3</td>\n",
              "      <td>1</td>\n",
              "      <td>3</td>\n",
              "      <td>Heikkinen, Miss. Laina</td>\n",
              "      <td>female</td>\n",
              "      <td>26.0</td>\n",
              "      <td>0</td>\n",
              "      <td>0</td>\n",
              "      <td>STON/O2. 3101282</td>\n",
              "      <td>7.9250</td>\n",
              "      <td>NaN</td>\n",
              "      <td>S</td>\n",
              "    </tr>\n",
              "    <tr>\n",
              "      <th>3</th>\n",
              "      <td>4</td>\n",
              "      <td>1</td>\n",
              "      <td>1</td>\n",
              "      <td>Futrelle, Mrs. Jacques Heath (Lily May Peel)</td>\n",
              "      <td>female</td>\n",
              "      <td>35.0</td>\n",
              "      <td>1</td>\n",
              "      <td>0</td>\n",
              "      <td>113803</td>\n",
              "      <td>53.1000</td>\n",
              "      <td>C123</td>\n",
              "      <td>S</td>\n",
              "    </tr>\n",
              "    <tr>\n",
              "      <th>4</th>\n",
              "      <td>5</td>\n",
              "      <td>0</td>\n",
              "      <td>3</td>\n",
              "      <td>Allen, Mr. William Henry</td>\n",
              "      <td>male</td>\n",
              "      <td>35.0</td>\n",
              "      <td>0</td>\n",
              "      <td>0</td>\n",
              "      <td>373450</td>\n",
              "      <td>8.0500</td>\n",
              "      <td>NaN</td>\n",
              "      <td>S</td>\n",
              "    </tr>\n",
              "  </tbody>\n",
              "</table>\n",
              "</div>"
            ],
            "text/plain": [
              "   PassengerId  Survived  Pclass  ...     Fare Cabin  Embarked\n",
              "0            1         0       3  ...   7.2500   NaN         S\n",
              "1            2         1       1  ...  71.2833   C85         C\n",
              "2            3         1       3  ...   7.9250   NaN         S\n",
              "3            4         1       1  ...  53.1000  C123         S\n",
              "4            5         0       3  ...   8.0500   NaN         S\n",
              "\n",
              "[5 rows x 12 columns]"
            ]
          },
          "metadata": {
            "tags": []
          },
          "execution_count": 67
        }
      ]
    },
    {
      "cell_type": "code",
      "metadata": {
        "id": "Yqlw9a96kWOA",
        "colab_type": "code",
        "colab": {
          "base_uri": "https://localhost:8080/",
          "height": 214
        },
        "outputId": "f8425ab1-1566-4768-9af3-ea744c3f7100"
      },
      "source": [
        "# Preview last five rows\n",
        "titanic.tail()"
      ],
      "execution_count": 68,
      "outputs": [
        {
          "output_type": "execute_result",
          "data": {
            "text/html": [
              "<div>\n",
              "<style scoped>\n",
              "    .dataframe tbody tr th:only-of-type {\n",
              "        vertical-align: middle;\n",
              "    }\n",
              "\n",
              "    .dataframe tbody tr th {\n",
              "        vertical-align: top;\n",
              "    }\n",
              "\n",
              "    .dataframe thead th {\n",
              "        text-align: right;\n",
              "    }\n",
              "</style>\n",
              "<table border=\"1\" class=\"dataframe\">\n",
              "  <thead>\n",
              "    <tr style=\"text-align: right;\">\n",
              "      <th></th>\n",
              "      <th>PassengerId</th>\n",
              "      <th>Survived</th>\n",
              "      <th>Pclass</th>\n",
              "      <th>Name</th>\n",
              "      <th>Sex</th>\n",
              "      <th>Age</th>\n",
              "      <th>SibSp</th>\n",
              "      <th>Parch</th>\n",
              "      <th>Ticket</th>\n",
              "      <th>Fare</th>\n",
              "      <th>Cabin</th>\n",
              "      <th>Embarked</th>\n",
              "    </tr>\n",
              "  </thead>\n",
              "  <tbody>\n",
              "    <tr>\n",
              "      <th>886</th>\n",
              "      <td>887</td>\n",
              "      <td>0</td>\n",
              "      <td>2</td>\n",
              "      <td>Montvila, Rev. Juozas</td>\n",
              "      <td>male</td>\n",
              "      <td>27.0</td>\n",
              "      <td>0</td>\n",
              "      <td>0</td>\n",
              "      <td>211536</td>\n",
              "      <td>13.00</td>\n",
              "      <td>NaN</td>\n",
              "      <td>S</td>\n",
              "    </tr>\n",
              "    <tr>\n",
              "      <th>887</th>\n",
              "      <td>888</td>\n",
              "      <td>1</td>\n",
              "      <td>1</td>\n",
              "      <td>Graham, Miss. Margaret Edith</td>\n",
              "      <td>female</td>\n",
              "      <td>19.0</td>\n",
              "      <td>0</td>\n",
              "      <td>0</td>\n",
              "      <td>112053</td>\n",
              "      <td>30.00</td>\n",
              "      <td>B42</td>\n",
              "      <td>S</td>\n",
              "    </tr>\n",
              "    <tr>\n",
              "      <th>888</th>\n",
              "      <td>889</td>\n",
              "      <td>0</td>\n",
              "      <td>3</td>\n",
              "      <td>Johnston, Miss. Catherine Helen \"Carrie\"</td>\n",
              "      <td>female</td>\n",
              "      <td>NaN</td>\n",
              "      <td>1</td>\n",
              "      <td>2</td>\n",
              "      <td>W./C. 6607</td>\n",
              "      <td>23.45</td>\n",
              "      <td>NaN</td>\n",
              "      <td>S</td>\n",
              "    </tr>\n",
              "    <tr>\n",
              "      <th>889</th>\n",
              "      <td>890</td>\n",
              "      <td>1</td>\n",
              "      <td>1</td>\n",
              "      <td>Behr, Mr. Karl Howell</td>\n",
              "      <td>male</td>\n",
              "      <td>26.0</td>\n",
              "      <td>0</td>\n",
              "      <td>0</td>\n",
              "      <td>111369</td>\n",
              "      <td>30.00</td>\n",
              "      <td>C148</td>\n",
              "      <td>C</td>\n",
              "    </tr>\n",
              "    <tr>\n",
              "      <th>890</th>\n",
              "      <td>891</td>\n",
              "      <td>0</td>\n",
              "      <td>3</td>\n",
              "      <td>Dooley, Mr. Patrick</td>\n",
              "      <td>male</td>\n",
              "      <td>32.0</td>\n",
              "      <td>0</td>\n",
              "      <td>0</td>\n",
              "      <td>370376</td>\n",
              "      <td>7.75</td>\n",
              "      <td>NaN</td>\n",
              "      <td>Q</td>\n",
              "    </tr>\n",
              "  </tbody>\n",
              "</table>\n",
              "</div>"
            ],
            "text/plain": [
              "     PassengerId  Survived  Pclass  ...   Fare Cabin  Embarked\n",
              "886          887         0       2  ...  13.00   NaN         S\n",
              "887          888         1       1  ...  30.00   B42         S\n",
              "888          889         0       3  ...  23.45   NaN         S\n",
              "889          890         1       1  ...  30.00  C148         C\n",
              "890          891         0       3  ...   7.75   NaN         Q\n",
              "\n",
              "[5 rows x 12 columns]"
            ]
          },
          "metadata": {
            "tags": []
          },
          "execution_count": 68
        }
      ]
    },
    {
      "cell_type": "code",
      "metadata": {
        "id": "C1VitQY2kkOE",
        "colab_type": "code",
        "colab": {
          "base_uri": "https://localhost:8080/",
          "height": 34
        },
        "outputId": "ba6e97e4-2bfe-4cfe-ea24-c289c13c59e2"
      },
      "source": [
        "titanic.shape"
      ],
      "execution_count": 69,
      "outputs": [
        {
          "output_type": "execute_result",
          "data": {
            "text/plain": [
              "(891, 12)"
            ]
          },
          "metadata": {
            "tags": []
          },
          "execution_count": 69
        }
      ]
    },
    {
      "cell_type": "markdown",
      "metadata": {
        "id": "SKhCAn8Lvx5l",
        "colab_type": "text"
      },
      "source": [
        "The data set has 891 rows and 12 columns"
      ]
    },
    {
      "cell_type": "code",
      "metadata": {
        "id": "CylMxkrKkoiA",
        "colab_type": "code",
        "colab": {
          "base_uri": "https://localhost:8080/",
          "height": 354
        },
        "outputId": "6218c367-b746-4853-bf24-279fc61241f8"
      },
      "source": [
        "# Check information about the data set\n",
        "titanic.info()"
      ],
      "execution_count": 70,
      "outputs": [
        {
          "output_type": "stream",
          "text": [
            "<class 'pandas.core.frame.DataFrame'>\n",
            "RangeIndex: 891 entries, 0 to 890\n",
            "Data columns (total 12 columns):\n",
            " #   Column       Non-Null Count  Dtype  \n",
            "---  ------       --------------  -----  \n",
            " 0   PassengerId  891 non-null    int64  \n",
            " 1   Survived     891 non-null    int64  \n",
            " 2   Pclass       891 non-null    int64  \n",
            " 3   Name         891 non-null    object \n",
            " 4   Sex          891 non-null    object \n",
            " 5   Age          714 non-null    float64\n",
            " 6   SibSp        891 non-null    int64  \n",
            " 7   Parch        891 non-null    int64  \n",
            " 8   Ticket       891 non-null    object \n",
            " 9   Fare         891 non-null    float64\n",
            " 10  Cabin        204 non-null    object \n",
            " 11  Embarked     889 non-null    object \n",
            "dtypes: float64(2), int64(5), object(5)\n",
            "memory usage: 83.7+ KB\n"
          ],
          "name": "stdout"
        }
      ]
    },
    {
      "cell_type": "markdown",
      "metadata": {
        "id": "E_HlcB2Xv5wl",
        "colab_type": "text"
      },
      "source": [
        "It is evident that the rows are uneven across different columns while the data set has  both numeric and categorical data types."
      ]
    },
    {
      "cell_type": "markdown",
      "metadata": {
        "id": "CCjmyHrklJZc",
        "colab_type": "text"
      },
      "source": [
        "## 3. Tidy the data set"
      ]
    },
    {
      "cell_type": "code",
      "metadata": {
        "id": "s2ywk8lZkvl-",
        "colab_type": "code",
        "colab": {
          "base_uri": "https://localhost:8080/",
          "height": 34
        },
        "outputId": "7e5c7ecb-f276-4648-df1d-7857cc84e917"
      },
      "source": [
        "# Check for duplicates\n",
        "titanic.duplicated().sum()"
      ],
      "execution_count": 71,
      "outputs": [
        {
          "output_type": "execute_result",
          "data": {
            "text/plain": [
              "0"
            ]
          },
          "metadata": {
            "tags": []
          },
          "execution_count": 71
        }
      ]
    },
    {
      "cell_type": "markdown",
      "metadata": {
        "id": "srVj5pcgwazz",
        "colab_type": "text"
      },
      "source": [
        "There are no duplicate values"
      ]
    },
    {
      "cell_type": "code",
      "metadata": {
        "id": "HcQ0UC4klX8m",
        "colab_type": "code",
        "colab": {
          "base_uri": "https://localhost:8080/",
          "height": 247
        },
        "outputId": "ec2be604-7452-4437-a391-382888e706f5"
      },
      "source": [
        "# Check for null values\n",
        "titanic.isna().sum()"
      ],
      "execution_count": 72,
      "outputs": [
        {
          "output_type": "execute_result",
          "data": {
            "text/plain": [
              "PassengerId      0\n",
              "Survived         0\n",
              "Pclass           0\n",
              "Name             0\n",
              "Sex              0\n",
              "Age            177\n",
              "SibSp            0\n",
              "Parch            0\n",
              "Ticket           0\n",
              "Fare             0\n",
              "Cabin          687\n",
              "Embarked         2\n",
              "dtype: int64"
            ]
          },
          "metadata": {
            "tags": []
          },
          "execution_count": 72
        }
      ]
    },
    {
      "cell_type": "markdown",
      "metadata": {
        "id": "4UrxuBwlwlEa",
        "colab_type": "text"
      },
      "source": [
        "There are three columns, namely 'Age', 'Cabin' and 'Embarked' with null values."
      ]
    },
    {
      "cell_type": "code",
      "metadata": {
        "id": "MmjqTAqylawn",
        "colab_type": "code",
        "colab": {
          "base_uri": "https://localhost:8080/",
          "height": 294
        },
        "outputId": "0e83a598-f01d-4ced-a87d-204074fbf266"
      },
      "source": [
        "# Examine null 'Embarked' values\n",
        "sns.countplot(x='Embarked', data=titanic)\n",
        "sns.despine(top=True, left=True, bottom=True, right=True)\n",
        "plt.title('Embarked')\n",
        "plt.show()"
      ],
      "execution_count": 73,
      "outputs": [
        {
          "output_type": "display_data",
          "data": {
            "image/png": "[encoded data removed]",
            "text/plain": [
              "<Figure size 432x288 with 1 Axes>"
            ]
          },
          "metadata": {
            "tags": [],
            "needs_background": "light"
          }
        }
      ]
    },
    {
      "cell_type": "markdown",
      "metadata": {
        "id": "ZJVMK1v-mpAU",
        "colab_type": "text"
      },
      "source": [
        "Since we are dealing with categorical data, I will fill the null values with the mode (in this case 'S')."
      ]
    },
    {
      "cell_type": "code",
      "metadata": {
        "id": "CGzMLwAQmQeE",
        "colab_type": "code",
        "colab": {
          "base_uri": "https://localhost:8080/",
          "height": 247
        },
        "outputId": "049e7b9f-5a04-404f-9dc6-70986b0de345"
      },
      "source": [
        "# Filling null 'Embarked' values\n",
        "titanic['Embarked'] = titanic['Embarked'].fillna('S')\n",
        "titanic.isnull().sum()"
      ],
      "execution_count": 74,
      "outputs": [
        {
          "output_type": "execute_result",
          "data": {
            "text/plain": [
              "PassengerId      0\n",
              "Survived         0\n",
              "Pclass           0\n",
              "Name             0\n",
              "Sex              0\n",
              "Age            177\n",
              "SibSp            0\n",
              "Parch            0\n",
              "Ticket           0\n",
              "Fare             0\n",
              "Cabin          687\n",
              "Embarked         0\n",
              "dtype: int64"
            ]
          },
          "metadata": {
            "tags": []
          },
          "execution_count": 74
        }
      ]
    },
    {
      "cell_type": "markdown",
      "metadata": {
        "id": "Nh5Fm_OXrxWz",
        "colab_type": "text"
      },
      "source": [
        "I will fill the null values in 'Cabin' column with unknown since I could not find any additional information about how the cabins were assigned to passengers. "
      ]
    },
    {
      "cell_type": "code",
      "metadata": {
        "id": "cvOeZmCWsGH9",
        "colab_type": "code",
        "colab": {}
      },
      "source": [
        "# Filling null 'Cabin' values\n",
        "titanic['Cabin'] = titanic['Cabin'].fillna('Unknown')"
      ],
      "execution_count": 75,
      "outputs": []
    },
    {
      "cell_type": "markdown",
      "metadata": {
        "id": "Q316TOzCnsz3",
        "colab_type": "text"
      },
      "source": [
        "In dealing with the null values in the 'Age' column, I will split the data set using passenger class which is a good estimator of age. "
      ]
    },
    {
      "cell_type": "code",
      "metadata": {
        "id": "B5r3d9ZLnMjs",
        "colab_type": "code",
        "colab": {
          "base_uri": "https://localhost:8080/",
          "height": 70
        },
        "outputId": "7cbd2b05-c103-4d6f-b59c-1164720d0686"
      },
      "source": [
        "# Group the data set according to class\n",
        "class_1 = titanic.groupby('Pclass').get_group(1)\n",
        "class_2 = titanic.groupby('Pclass').get_group(2)\n",
        "class_3 = titanic.groupby('Pclass').get_group(3)\n",
        "\n",
        "\n",
        "print('1st class mean age: ',class_1.Age.mean())\n",
        "print('2nd class mean age: ',class_2.Age.mean())\n",
        "print('3rd class mean age: ',class_3.Age.mean())"
      ],
      "execution_count": 76,
      "outputs": [
        {
          "output_type": "stream",
          "text": [
            "1st class mean age:  38.233440860215055\n",
            "2nd class mean age:  29.87763005780347\n",
            "3rd class mean age:  25.14061971830986\n"
          ],
          "name": "stdout"
        }
      ]
    },
    {
      "cell_type": "markdown",
      "metadata": {
        "id": "kWzbDC9xo6hO",
        "colab_type": "text"
      },
      "source": [
        "According to the average ages, the older a passenger is, the more likely they are to pay for the more expensive classes. COnsequently, we can fill the missing values in the 'Age' columns with the average age per class."
      ]
    },
    {
      "cell_type": "code",
      "metadata": {
        "id": "vki7rv_IoWZ9",
        "colab_type": "code",
        "colab": {
          "base_uri": "https://localhost:8080/",
          "height": 34
        },
        "outputId": "ef64da60-eced-4830-e07a-707deff41beb"
      },
      "source": [
        "# Fill null values with respective mean ages\n",
        "class_1['Age'] = class_1['Age'].fillna(round(class_1.Age.mean()))\n",
        "class_2['Age'] = class_2['Age'].fillna(round(class_2.Age.mean()))\n",
        "class_3['Age'] = class_3['Age'].fillna(round(class_3.Age.mean()))\n",
        "\n",
        "# Concatenate data sets \n",
        "titanic_clean = pd.concat([class_1, class_2, class_3])\n",
        "titanic_clean.shape"
      ],
      "execution_count": 77,
      "outputs": [
        {
          "output_type": "execute_result",
          "data": {
            "text/plain": [
              "(891, 12)"
            ]
          },
          "metadata": {
            "tags": []
          },
          "execution_count": 77
        }
      ]
    },
    {
      "cell_type": "code",
      "metadata": {
        "id": "hbOqGmg7oeOz",
        "colab_type": "code",
        "colab": {
          "base_uri": "https://localhost:8080/",
          "height": 247
        },
        "outputId": "296ead98-5e6c-41c0-950a-c66b3c761e94"
      },
      "source": [
        "# Check data set \n",
        "titanic_clean.isnull().sum()"
      ],
      "execution_count": 78,
      "outputs": [
        {
          "output_type": "execute_result",
          "data": {
            "text/plain": [
              "PassengerId    0\n",
              "Survived       0\n",
              "Pclass         0\n",
              "Name           0\n",
              "Sex            0\n",
              "Age            0\n",
              "SibSp          0\n",
              "Parch          0\n",
              "Ticket         0\n",
              "Fare           0\n",
              "Cabin          0\n",
              "Embarked       0\n",
              "dtype: int64"
            ]
          },
          "metadata": {
            "tags": []
          },
          "execution_count": 78
        }
      ]
    },
    {
      "cell_type": "markdown",
      "metadata": {
        "id": "PYAnIZtLtWQ1",
        "colab_type": "text"
      },
      "source": [
        "All the null values have been successfully dealt with."
      ]
    },
    {
      "cell_type": "code",
      "metadata": {
        "id": "qHORAndFtEgY",
        "colab_type": "code",
        "colab": {
          "base_uri": "https://localhost:8080/",
          "height": 231
        },
        "outputId": "df38d6fb-d027-4ed2-a35e-edbe5123e262"
      },
      "source": [
        "# Preview first five rows\n",
        "titanic_clean.head()"
      ],
      "execution_count": 79,
      "outputs": [
        {
          "output_type": "execute_result",
          "data": {
            "text/html": [
              "<div>\n",
              "<style scoped>\n",
              "    .dataframe tbody tr th:only-of-type {\n",
              "        vertical-align: middle;\n",
              "    }\n",
              "\n",
              "    .dataframe tbody tr th {\n",
              "        vertical-align: top;\n",
              "    }\n",
              "\n",
              "    .dataframe thead th {\n",
              "        text-align: right;\n",
              "    }\n",
              "</style>\n",
              "<table border=\"1\" class=\"dataframe\">\n",
              "  <thead>\n",
              "    <tr style=\"text-align: right;\">\n",
              "      <th></th>\n",
              "      <th>PassengerId</th>\n",
              "      <th>Survived</th>\n",
              "      <th>Pclass</th>\n",
              "      <th>Name</th>\n",
              "      <th>Sex</th>\n",
              "      <th>Age</th>\n",
              "      <th>SibSp</th>\n",
              "      <th>Parch</th>\n",
              "      <th>Ticket</th>\n",
              "      <th>Fare</th>\n",
              "      <th>Cabin</th>\n",
              "      <th>Embarked</th>\n",
              "    </tr>\n",
              "  </thead>\n",
              "  <tbody>\n",
              "    <tr>\n",
              "      <th>1</th>\n",
              "      <td>2</td>\n",
              "      <td>1</td>\n",
              "      <td>1</td>\n",
              "      <td>Cumings, Mrs. John Bradley (Florence Briggs Th...</td>\n",
              "      <td>female</td>\n",
              "      <td>38.0</td>\n",
              "      <td>1</td>\n",
              "      <td>0</td>\n",
              "      <td>PC 17599</td>\n",
              "      <td>71.2833</td>\n",
              "      <td>C85</td>\n",
              "      <td>C</td>\n",
              "    </tr>\n",
              "    <tr>\n",
              "      <th>3</th>\n",
              "      <td>4</td>\n",
              "      <td>1</td>\n",
              "      <td>1</td>\n",
              "      <td>Futrelle, Mrs. Jacques Heath (Lily May Peel)</td>\n",
              "      <td>female</td>\n",
              "      <td>35.0</td>\n",
              "      <td>1</td>\n",
              "      <td>0</td>\n",
              "      <td>113803</td>\n",
              "      <td>53.1000</td>\n",
              "      <td>C123</td>\n",
              "      <td>S</td>\n",
              "    </tr>\n",
              "    <tr>\n",
              "      <th>6</th>\n",
              "      <td>7</td>\n",
              "      <td>0</td>\n",
              "      <td>1</td>\n",
              "      <td>McCarthy, Mr. Timothy J</td>\n",
              "      <td>male</td>\n",
              "      <td>54.0</td>\n",
              "      <td>0</td>\n",
              "      <td>0</td>\n",
              "      <td>17463</td>\n",
              "      <td>51.8625</td>\n",
              "      <td>E46</td>\n",
              "      <td>S</td>\n",
              "    </tr>\n",
              "    <tr>\n",
              "      <th>11</th>\n",
              "      <td>12</td>\n",
              "      <td>1</td>\n",
              "      <td>1</td>\n",
              "      <td>Bonnell, Miss. Elizabeth</td>\n",
              "      <td>female</td>\n",
              "      <td>58.0</td>\n",
              "      <td>0</td>\n",
              "      <td>0</td>\n",
              "      <td>113783</td>\n",
              "      <td>26.5500</td>\n",
              "      <td>C103</td>\n",
              "      <td>S</td>\n",
              "    </tr>\n",
              "    <tr>\n",
              "      <th>23</th>\n",
              "      <td>24</td>\n",
              "      <td>1</td>\n",
              "      <td>1</td>\n",
              "      <td>Sloper, Mr. William Thompson</td>\n",
              "      <td>male</td>\n",
              "      <td>28.0</td>\n",
              "      <td>0</td>\n",
              "      <td>0</td>\n",
              "      <td>113788</td>\n",
              "      <td>35.5000</td>\n",
              "      <td>A6</td>\n",
              "      <td>S</td>\n",
              "    </tr>\n",
              "  </tbody>\n",
              "</table>\n",
              "</div>"
            ],
            "text/plain": [
              "    PassengerId  Survived  Pclass  ...     Fare Cabin  Embarked\n",
              "1             2         1       1  ...  71.2833   C85         C\n",
              "3             4         1       1  ...  53.1000  C123         S\n",
              "6             7         0       1  ...  51.8625   E46         S\n",
              "11           12         1       1  ...  26.5500  C103         S\n",
              "23           24         1       1  ...  35.5000    A6         S\n",
              "\n",
              "[5 rows x 12 columns]"
            ]
          },
          "metadata": {
            "tags": []
          },
          "execution_count": 79
        }
      ]
    },
    {
      "cell_type": "markdown",
      "metadata": {
        "id": "8vGz_1yltvoJ",
        "colab_type": "text"
      },
      "source": [
        "While examining the name column, we can extract name titles such as Mrs, Mr, Miss which could add further information to the current data set. Since the passenger names are of little value, we will drop them from the data set.\n"
      ]
    },
    {
      "cell_type": "code",
      "metadata": {
        "id": "-JT5Fz3nsgGO",
        "colab_type": "code",
        "colab": {}
      },
      "source": [
        "# Split name column into 'name' and 'title'\n",
        "titanic_clean[['name', 'title']] = titanic_clean.Name.str.split(',', expand=True)\n",
        "\n",
        "# Drop the name columns\n",
        "titanic_clean = titanic_clean.drop(['Name', 'name'], 1)"
      ],
      "execution_count": 80,
      "outputs": []
    },
    {
      "cell_type": "code",
      "metadata": {
        "id": "pdZd1wGiumW_",
        "colab_type": "code",
        "colab": {
          "base_uri": "https://localhost:8080/",
          "height": 197
        },
        "outputId": "fd1f2513-9cc5-4638-8ff6-63d64a32613e"
      },
      "source": [
        "# Split title column and retain title\n",
        "titanic_clean['Title'] = titanic_clean.title.str.split('.', expand=True)[0]\n",
        "\n",
        "# Drop the title column\n",
        "titanic_clean = titanic_clean.drop(['title'], 1)\n",
        "titanic_clean = titanic_clean.sort_index(axis=0, ascending=True)\n",
        "clean_copy = titanic_clean.copy()\n",
        "titanic_clean.head()"
      ],
      "execution_count": 81,
      "outputs": [
        {
          "output_type": "execute_result",
          "data": {
            "text/html": [
              "<div>\n",
              "<style scoped>\n",
              "    .dataframe tbody tr th:only-of-type {\n",
              "        vertical-align: middle;\n",
              "    }\n",
              "\n",
              "    .dataframe tbody tr th {\n",
              "        vertical-align: top;\n",
              "    }\n",
              "\n",
              "    .dataframe thead th {\n",
              "        text-align: right;\n",
              "    }\n",
              "</style>\n",
              "<table border=\"1\" class=\"dataframe\">\n",
              "  <thead>\n",
              "    <tr style=\"text-align: right;\">\n",
              "      <th></th>\n",
              "      <th>PassengerId</th>\n",
              "      <th>Survived</th>\n",
              "      <th>Pclass</th>\n",
              "      <th>Sex</th>\n",
              "      <th>Age</th>\n",
              "      <th>SibSp</th>\n",
              "      <th>Parch</th>\n",
              "      <th>Ticket</th>\n",
              "      <th>Fare</th>\n",
              "      <th>Cabin</th>\n",
              "      <th>Embarked</th>\n",
              "      <th>Title</th>\n",
              "    </tr>\n",
              "  </thead>\n",
              "  <tbody>\n",
              "    <tr>\n",
              "      <th>0</th>\n",
              "      <td>1</td>\n",
              "      <td>0</td>\n",
              "      <td>3</td>\n",
              "      <td>male</td>\n",
              "      <td>22.0</td>\n",
              "      <td>1</td>\n",
              "      <td>0</td>\n",
              "      <td>A/5 21171</td>\n",
              "      <td>7.2500</td>\n",
              "      <td>Unknown</td>\n",
              "      <td>S</td>\n",
              "      <td>Mr</td>\n",
              "    </tr>\n",
              "    <tr>\n",
              "      <th>1</th>\n",
              "      <td>2</td>\n",
              "      <td>1</td>\n",
              "      <td>1</td>\n",
              "      <td>female</td>\n",
              "      <td>38.0</td>\n",
              "      <td>1</td>\n",
              "      <td>0</td>\n",
              "      <td>PC 17599</td>\n",
              "      <td>71.2833</td>\n",
              "      <td>C85</td>\n",
              "      <td>C</td>\n",
              "      <td>Mrs</td>\n",
              "    </tr>\n",
              "    <tr>\n",
              "      <th>2</th>\n",
              "      <td>3</td>\n",
              "      <td>1</td>\n",
              "      <td>3</td>\n",
              "      <td>female</td>\n",
              "      <td>26.0</td>\n",
              "      <td>0</td>\n",
              "      <td>0</td>\n",
              "      <td>STON/O2. 3101282</td>\n",
              "      <td>7.9250</td>\n",
              "      <td>Unknown</td>\n",
              "      <td>S</td>\n",
              "      <td>Miss</td>\n",
              "    </tr>\n",
              "    <tr>\n",
              "      <th>3</th>\n",
              "      <td>4</td>\n",
              "      <td>1</td>\n",
              "      <td>1</td>\n",
              "      <td>female</td>\n",
              "      <td>35.0</td>\n",
              "      <td>1</td>\n",
              "      <td>0</td>\n",
              "      <td>113803</td>\n",
              "      <td>53.1000</td>\n",
              "      <td>C123</td>\n",
              "      <td>S</td>\n",
              "      <td>Mrs</td>\n",
              "    </tr>\n",
              "    <tr>\n",
              "      <th>4</th>\n",
              "      <td>5</td>\n",
              "      <td>0</td>\n",
              "      <td>3</td>\n",
              "      <td>male</td>\n",
              "      <td>35.0</td>\n",
              "      <td>0</td>\n",
              "      <td>0</td>\n",
              "      <td>373450</td>\n",
              "      <td>8.0500</td>\n",
              "      <td>Unknown</td>\n",
              "      <td>S</td>\n",
              "      <td>Mr</td>\n",
              "    </tr>\n",
              "  </tbody>\n",
              "</table>\n",
              "</div>"
            ],
            "text/plain": [
              "   PassengerId  Survived  Pclass     Sex  ...     Fare    Cabin  Embarked  Title\n",
              "0            1         0       3    male  ...   7.2500  Unknown         S     Mr\n",
              "1            2         1       1  female  ...  71.2833      C85         C    Mrs\n",
              "2            3         1       3  female  ...   7.9250  Unknown         S   Miss\n",
              "3            4         1       1  female  ...  53.1000     C123         S    Mrs\n",
              "4            5         0       3    male  ...   8.0500  Unknown         S     Mr\n",
              "\n",
              "[5 rows x 12 columns]"
            ]
          },
          "metadata": {
            "tags": []
          },
          "execution_count": 81
        }
      ]
    },
    {
      "cell_type": "markdown",
      "metadata": {
        "id": "SuZy-CfXw8Ma",
        "colab_type": "text"
      },
      "source": [
        "Before we begin modelling, we will create dummy variables for all the categorical columns aside from the 'Cabin' which had too many missing values and 'Ticket' which does not inform a person's survival chances. First, I will reduce the cardinality of the 'Title' column."
      ]
    },
    {
      "cell_type": "code",
      "metadata": {
        "id": "JDXwydCUveoq",
        "colab_type": "code",
        "colab": {
          "base_uri": "https://localhost:8080/",
          "height": 336
        },
        "outputId": "29021711-663d-4fb1-c7b0-5a81ac27fadf"
      },
      "source": [
        "# Check unique values and their counts\n",
        "titanic_clean['Title'].value_counts()"
      ],
      "execution_count": 82,
      "outputs": [
        {
          "output_type": "execute_result",
          "data": {
            "text/plain": [
              " Mr              517\n",
              " Miss            182\n",
              " Mrs             125\n",
              " Master           40\n",
              " Dr                7\n",
              " Rev               6\n",
              " Col               2\n",
              " Mlle              2\n",
              " Major             2\n",
              " Capt              1\n",
              " Jonkheer          1\n",
              " Mme               1\n",
              " Sir               1\n",
              " the Countess      1\n",
              " Ms                1\n",
              " Lady              1\n",
              " Don               1\n",
              "Name: Title, dtype: int64"
            ]
          },
          "metadata": {
            "tags": []
          },
          "execution_count": 82
        }
      ]
    },
    {
      "cell_type": "code",
      "metadata": {
        "id": "pZgCdvEFwKti",
        "colab_type": "code",
        "colab": {
          "base_uri": "https://localhost:8080/",
          "height": 52
        },
        "outputId": "8e3e1972-7165-453e-c6f0-a631d68d4ad9"
      },
      "source": [
        "# Rename the least common titles to 'other'\n",
        "titanic_clean.replace(to_replace=[' Don', ' Mme',\n",
        "       ' Ms', ' Major', ' Lady', ' Sir', ' Mlle', ' Col', ' Capt',\n",
        "       ' the Countess', ' Jonkheer'], value = 'Other', inplace=True)\n",
        "titanic_clean.Title.unique()"
      ],
      "execution_count": 83,
      "outputs": [
        {
          "output_type": "execute_result",
          "data": {
            "text/plain": [
              "array([' Mr', ' Mrs', ' Miss', ' Master', 'Other', ' Rev', ' Dr'],\n",
              "      dtype=object)"
            ]
          },
          "metadata": {
            "tags": []
          },
          "execution_count": 83
        }
      ]
    },
    {
      "cell_type": "markdown",
      "metadata": {
        "id": "wmxt3bOCw8zy",
        "colab_type": "text"
      },
      "source": [
        "I will create dummy variables for the categorical columns to make them useable in modelling."
      ]
    },
    {
      "cell_type": "code",
      "metadata": {
        "id": "yhpUze3cyTAZ",
        "colab_type": "code",
        "colab": {
          "base_uri": "https://localhost:8080/",
          "height": 197
        },
        "outputId": "b20ad1ac-8c6d-443b-bc4e-04a9e66b0869"
      },
      "source": [
        "# Create dummy variables for 'Pclass' and 'Embarked'\n",
        "titanic_clean['Sex'] = titanic_clean['Sex'].replace({'female':1, 'male':0})\n",
        "titanic_clean['Embarked'] = titanic_clean['Embarked'].replace({'C':0, 'Q':1, 'S':2})\n",
        "titanic_clean.head()"
      ],
      "execution_count": 84,
      "outputs": [
        {
          "output_type": "execute_result",
          "data": {
            "text/html": [
              "<div>\n",
              "<style scoped>\n",
              "    .dataframe tbody tr th:only-of-type {\n",
              "        vertical-align: middle;\n",
              "    }\n",
              "\n",
              "    .dataframe tbody tr th {\n",
              "        vertical-align: top;\n",
              "    }\n",
              "\n",
              "    .dataframe thead th {\n",
              "        text-align: right;\n",
              "    }\n",
              "</style>\n",
              "<table border=\"1\" class=\"dataframe\">\n",
              "  <thead>\n",
              "    <tr style=\"text-align: right;\">\n",
              "      <th></th>\n",
              "      <th>PassengerId</th>\n",
              "      <th>Survived</th>\n",
              "      <th>Pclass</th>\n",
              "      <th>Sex</th>\n",
              "      <th>Age</th>\n",
              "      <th>SibSp</th>\n",
              "      <th>Parch</th>\n",
              "      <th>Ticket</th>\n",
              "      <th>Fare</th>\n",
              "      <th>Cabin</th>\n",
              "      <th>Embarked</th>\n",
              "      <th>Title</th>\n",
              "    </tr>\n",
              "  </thead>\n",
              "  <tbody>\n",
              "    <tr>\n",
              "      <th>0</th>\n",
              "      <td>1</td>\n",
              "      <td>0</td>\n",
              "      <td>3</td>\n",
              "      <td>0</td>\n",
              "      <td>22.0</td>\n",
              "      <td>1</td>\n",
              "      <td>0</td>\n",
              "      <td>A/5 21171</td>\n",
              "      <td>7.2500</td>\n",
              "      <td>Unknown</td>\n",
              "      <td>2</td>\n",
              "      <td>Mr</td>\n",
              "    </tr>\n",
              "    <tr>\n",
              "      <th>1</th>\n",
              "      <td>2</td>\n",
              "      <td>1</td>\n",
              "      <td>1</td>\n",
              "      <td>1</td>\n",
              "      <td>38.0</td>\n",
              "      <td>1</td>\n",
              "      <td>0</td>\n",
              "      <td>PC 17599</td>\n",
              "      <td>71.2833</td>\n",
              "      <td>C85</td>\n",
              "      <td>0</td>\n",
              "      <td>Mrs</td>\n",
              "    </tr>\n",
              "    <tr>\n",
              "      <th>2</th>\n",
              "      <td>3</td>\n",
              "      <td>1</td>\n",
              "      <td>3</td>\n",
              "      <td>1</td>\n",
              "      <td>26.0</td>\n",
              "      <td>0</td>\n",
              "      <td>0</td>\n",
              "      <td>STON/O2. 3101282</td>\n",
              "      <td>7.9250</td>\n",
              "      <td>Unknown</td>\n",
              "      <td>2</td>\n",
              "      <td>Miss</td>\n",
              "    </tr>\n",
              "    <tr>\n",
              "      <th>3</th>\n",
              "      <td>4</td>\n",
              "      <td>1</td>\n",
              "      <td>1</td>\n",
              "      <td>1</td>\n",
              "      <td>35.0</td>\n",
              "      <td>1</td>\n",
              "      <td>0</td>\n",
              "      <td>113803</td>\n",
              "      <td>53.1000</td>\n",
              "      <td>C123</td>\n",
              "      <td>2</td>\n",
              "      <td>Mrs</td>\n",
              "    </tr>\n",
              "    <tr>\n",
              "      <th>4</th>\n",
              "      <td>5</td>\n",
              "      <td>0</td>\n",
              "      <td>3</td>\n",
              "      <td>0</td>\n",
              "      <td>35.0</td>\n",
              "      <td>0</td>\n",
              "      <td>0</td>\n",
              "      <td>373450</td>\n",
              "      <td>8.0500</td>\n",
              "      <td>Unknown</td>\n",
              "      <td>2</td>\n",
              "      <td>Mr</td>\n",
              "    </tr>\n",
              "  </tbody>\n",
              "</table>\n",
              "</div>"
            ],
            "text/plain": [
              "   PassengerId  Survived  Pclass  Sex  ...     Fare    Cabin  Embarked  Title\n",
              "0            1         0       3    0  ...   7.2500  Unknown         2     Mr\n",
              "1            2         1       1    1  ...  71.2833      C85         0    Mrs\n",
              "2            3         1       3    1  ...   7.9250  Unknown         2   Miss\n",
              "3            4         1       1    1  ...  53.1000     C123         2    Mrs\n",
              "4            5         0       3    0  ...   8.0500  Unknown         2     Mr\n",
              "\n",
              "[5 rows x 12 columns]"
            ]
          },
          "metadata": {
            "tags": []
          },
          "execution_count": 84
        }
      ]
    },
    {
      "cell_type": "code",
      "metadata": {
        "id": "0vUsFImyzSPS",
        "colab_type": "code",
        "colab": {
          "base_uri": "https://localhost:8080/",
          "height": 234
        },
        "outputId": "14b54b42-1cee-4d6d-9281-1672ac6fb135"
      },
      "source": [
        "# Get dummies for 'Title' column\n",
        "dummies = pd.get_dummies(titanic_clean['Title'], drop_first=True)\n",
        "\n",
        "# Concatenate data sets\n",
        "titanic_clean = pd.concat([titanic_clean, dummies], axis=1)\n",
        "\n",
        "# Drop 'Title' column\n",
        "titanic_clean = titanic_clean.drop('Title', 1)\n",
        "titanic_clean.head()"
      ],
      "execution_count": 85,
      "outputs": [
        {
          "output_type": "execute_result",
          "data": {
            "text/html": [
              "<div>\n",
              "<style scoped>\n",
              "    .dataframe tbody tr th:only-of-type {\n",
              "        vertical-align: middle;\n",
              "    }\n",
              "\n",
              "    .dataframe tbody tr th {\n",
              "        vertical-align: top;\n",
              "    }\n",
              "\n",
              "    .dataframe thead th {\n",
              "        text-align: right;\n",
              "    }\n",
              "</style>\n",
              "<table border=\"1\" class=\"dataframe\">\n",
              "  <thead>\n",
              "    <tr style=\"text-align: right;\">\n",
              "      <th></th>\n",
              "      <th>PassengerId</th>\n",
              "      <th>Survived</th>\n",
              "      <th>Pclass</th>\n",
              "      <th>Sex</th>\n",
              "      <th>Age</th>\n",
              "      <th>SibSp</th>\n",
              "      <th>Parch</th>\n",
              "      <th>Ticket</th>\n",
              "      <th>Fare</th>\n",
              "      <th>Cabin</th>\n",
              "      <th>Embarked</th>\n",
              "      <th>Master</th>\n",
              "      <th>Miss</th>\n",
              "      <th>Mr</th>\n",
              "      <th>Mrs</th>\n",
              "      <th>Rev</th>\n",
              "      <th>Other</th>\n",
              "    </tr>\n",
              "  </thead>\n",
              "  <tbody>\n",
              "    <tr>\n",
              "      <th>0</th>\n",
              "      <td>1</td>\n",
              "      <td>0</td>\n",
              "      <td>3</td>\n",
              "      <td>0</td>\n",
              "      <td>22.0</td>\n",
              "      <td>1</td>\n",
              "      <td>0</td>\n",
              "      <td>A/5 21171</td>\n",
              "      <td>7.2500</td>\n",
              "      <td>Unknown</td>\n",
              "      <td>2</td>\n",
              "      <td>0</td>\n",
              "      <td>0</td>\n",
              "      <td>1</td>\n",
              "      <td>0</td>\n",
              "      <td>0</td>\n",
              "      <td>0</td>\n",
              "    </tr>\n",
              "    <tr>\n",
              "      <th>1</th>\n",
              "      <td>2</td>\n",
              "      <td>1</td>\n",
              "      <td>1</td>\n",
              "      <td>1</td>\n",
              "      <td>38.0</td>\n",
              "      <td>1</td>\n",
              "      <td>0</td>\n",
              "      <td>PC 17599</td>\n",
              "      <td>71.2833</td>\n",
              "      <td>C85</td>\n",
              "      <td>0</td>\n",
              "      <td>0</td>\n",
              "      <td>0</td>\n",
              "      <td>0</td>\n",
              "      <td>1</td>\n",
              "      <td>0</td>\n",
              "      <td>0</td>\n",
              "    </tr>\n",
              "    <tr>\n",
              "      <th>2</th>\n",
              "      <td>3</td>\n",
              "      <td>1</td>\n",
              "      <td>3</td>\n",
              "      <td>1</td>\n",
              "      <td>26.0</td>\n",
              "      <td>0</td>\n",
              "      <td>0</td>\n",
              "      <td>STON/O2. 3101282</td>\n",
              "      <td>7.9250</td>\n",
              "      <td>Unknown</td>\n",
              "      <td>2</td>\n",
              "      <td>0</td>\n",
              "      <td>1</td>\n",
              "      <td>0</td>\n",
              "      <td>0</td>\n",
              "      <td>0</td>\n",
              "      <td>0</td>\n",
              "    </tr>\n",
              "    <tr>\n",
              "      <th>3</th>\n",
              "      <td>4</td>\n",
              "      <td>1</td>\n",
              "      <td>1</td>\n",
              "      <td>1</td>\n",
              "      <td>35.0</td>\n",
              "      <td>1</td>\n",
              "      <td>0</td>\n",
              "      <td>113803</td>\n",
              "      <td>53.1000</td>\n",
              "      <td>C123</td>\n",
              "      <td>2</td>\n",
              "      <td>0</td>\n",
              "      <td>0</td>\n",
              "      <td>0</td>\n",
              "      <td>1</td>\n",
              "      <td>0</td>\n",
              "      <td>0</td>\n",
              "    </tr>\n",
              "    <tr>\n",
              "      <th>4</th>\n",
              "      <td>5</td>\n",
              "      <td>0</td>\n",
              "      <td>3</td>\n",
              "      <td>0</td>\n",
              "      <td>35.0</td>\n",
              "      <td>0</td>\n",
              "      <td>0</td>\n",
              "      <td>373450</td>\n",
              "      <td>8.0500</td>\n",
              "      <td>Unknown</td>\n",
              "      <td>2</td>\n",
              "      <td>0</td>\n",
              "      <td>0</td>\n",
              "      <td>1</td>\n",
              "      <td>0</td>\n",
              "      <td>0</td>\n",
              "      <td>0</td>\n",
              "    </tr>\n",
              "  </tbody>\n",
              "</table>\n",
              "</div>"
            ],
            "text/plain": [
              "   PassengerId  Survived  Pclass  Sex   Age  ...   Miss   Mr  Mrs   Rev Other\n",
              "0            1         0       3    0  22.0  ...      0    1    0     0     0\n",
              "1            2         1       1    1  38.0  ...      0    0    1     0     0\n",
              "2            3         1       3    1  26.0  ...      1    0    0     0     0\n",
              "3            4         1       1    1  35.0  ...      0    0    1     0     0\n",
              "4            5         0       3    0  35.0  ...      0    1    0     0     0\n",
              "\n",
              "[5 rows x 17 columns]"
            ]
          },
          "metadata": {
            "tags": []
          },
          "execution_count": 85
        }
      ]
    },
    {
      "cell_type": "markdown",
      "metadata": {
        "id": "B0YxZk9-n0Tw",
        "colab_type": "text"
      },
      "source": [
        "## Exploratory Data Analysis"
      ]
    },
    {
      "cell_type": "markdown",
      "metadata": {
        "id": "-jFfQx7KAeXh",
        "colab_type": "text"
      },
      "source": [
        "### Univariate analysis"
      ]
    },
    {
      "cell_type": "code",
      "metadata": {
        "id": "EDQa783F_95Z",
        "colab_type": "code",
        "colab": {
          "base_uri": "https://localhost:8080/",
          "height": 0
        },
        "outputId": "4f3e0827-7309-4188-f45f-dbf5f55c8427"
      },
      "source": [
        "# check survivors\n",
        "sns.countplot(x='Survived', data=clean_copy)\n",
        "sns.despine(top=True, left=True, bottom=True, right=True)\n",
        "plt.title('Survived')\n",
        "plt.show()"
      ],
      "execution_count": 86,
      "outputs": [
        {
          "output_type": "display_data",
          "data": {
            "image/png": "[encoded data removed]",
            "text/plain": [
              "<Figure size 432x288 with 1 Axes>"
            ]
          },
          "metadata": {
            "tags": [],
            "needs_background": "light"
          }
        }
      ]
    },
    {
      "cell_type": "markdown",
      "metadata": {
        "id": "id5ohMWyD3sw",
        "colab_type": "text"
      },
      "source": [
        "It is evident that more passengers died in the catastrophe."
      ]
    },
    {
      "cell_type": "code",
      "metadata": {
        "id": "WXKvhoJtA7VD",
        "colab_type": "code",
        "colab": {
          "base_uri": "https://localhost:8080/",
          "height": 0
        },
        "outputId": "f5b4bcf4-22ba-453e-c980-3575c8a63e3c"
      },
      "source": [
        "# check passenger classes\n",
        "sns.countplot(x='Pclass', data=clean_copy)\n",
        "sns.despine(top=True, left=True, bottom=True, right=True)\n",
        "plt.title('Pclass')\n",
        "plt.show()"
      ],
      "execution_count": 87,
      "outputs": [
        {
          "output_type": "display_data",
          "data": {
            "image/png": "[encoded data removed]",
            "text/plain": [
              "<Figure size 432x288 with 1 Axes>"
            ]
          },
          "metadata": {
            "tags": [],
            "needs_background": "light"
          }
        }
      ]
    },
    {
      "cell_type": "markdown",
      "metadata": {
        "id": "7qcGCBfbEuCU",
        "colab_type": "text"
      },
      "source": [
        "Passengers in the 3rd class comprise the largest proportion of passengers in the titanic while the 2nd class had least passengers."
      ]
    },
    {
      "cell_type": "code",
      "metadata": {
        "id": "Pg7SIgptBK_V",
        "colab_type": "code",
        "colab": {
          "base_uri": "https://localhost:8080/",
          "height": 0
        },
        "outputId": "67169a35-4229-4da3-d76f-86ac4e852a29"
      },
      "source": [
        "# check port passenger embarked \n",
        "sns.countplot(x='Embarked', data=clean_copy)\n",
        "sns.despine(top=True, left=True, bottom=True, right=True)\n",
        "plt.title('Embarked')\n",
        "plt.show()"
      ],
      "execution_count": 88,
      "outputs": [
        {
          "output_type": "display_data",
          "data": {
            "image/png": "[encoded data removed]",
            "text/plain": [
              "<Figure size 432x288 with 1 Axes>"
            ]
          },
          "metadata": {
            "tags": [],
            "needs_background": "light"
          }
        }
      ]
    },
    {
      "cell_type": "markdown",
      "metadata": {
        "id": "tJOvVgCdFoe3",
        "colab_type": "text"
      },
      "source": [
        "A majority of the passengers embarked from the Southampton port while Queenstown had the least passengers."
      ]
    },
    {
      "cell_type": "code",
      "metadata": {
        "id": "29MFNDqICBTA",
        "colab_type": "code",
        "colab": {
          "base_uri": "https://localhost:8080/",
          "height": 0
        },
        "outputId": "d8f4e0e6-6cce-410a-b90e-559bb03d8958"
      },
      "source": [
        "# Check Age distribution\n",
        "sns.distplot(clean_copy['Age'], hist=True, kde=True, bins=8)\n",
        "sns.despine(top=True, left=True, bottom=True, right=True)\n",
        "plt.title('Age')\n",
        "plt.show()"
      ],
      "execution_count": 89,
      "outputs": [
        {
          "output_type": "display_data",
          "data": {
            "image/png": "[encoded data removed]",
            "text/plain": [
              "<Figure size 432x288 with 1 Axes>"
            ]
          },
          "metadata": {
            "tags": [],
            "needs_background": "light"
          }
        }
      ]
    },
    {
      "cell_type": "markdown",
      "metadata": {
        "id": "nD8OFKV6GVZC",
        "colab_type": "text"
      },
      "source": [
        "Most of the passengers on the titanic were aged between 20 and 30 years. The oldest passenger was 80 years old while the youngest was roughly 4 months old."
      ]
    },
    {
      "cell_type": "code",
      "metadata": {
        "id": "mxqgu6FeClez",
        "colab_type": "code",
        "colab": {
          "base_uri": "https://localhost:8080/",
          "height": 0
        },
        "outputId": "fb4f4355-101d-4378-bde9-aea33c118dfa"
      },
      "source": [
        "# Check Fare distribution\n",
        "sns.distplot(clean_copy['Fare'], hist=True, kde=True, bins=10)\n",
        "sns.despine(top=True, left=True, bottom=True, right=True)\n",
        "plt.title('Fare')\n",
        "plt.show()"
      ],
      "execution_count": 90,
      "outputs": [
        {
          "output_type": "display_data",
          "data": {
            "image/png": "[encoded data removed]",
            "text/plain": [
              "<Figure size 432x288 with 1 Axes>"
            ]
          },
          "metadata": {
            "tags": [],
            "needs_background": "light"
          }
        }
      ]
    },
    {
      "cell_type": "markdown",
      "metadata": {
        "id": "1Pz6TlWLH1JV",
        "colab_type": "text"
      },
      "source": [
        "A majority of the passengers paid between 0 and 50 dollars. The most expensive fare paid was 512 dollars while the in some cases, no fare was paid."
      ]
    },
    {
      "cell_type": "markdown",
      "metadata": {
        "id": "5_LFP0IjKHoL",
        "colab_type": "text"
      },
      "source": [
        "### Bivariate Analysis"
      ]
    },
    {
      "cell_type": "code",
      "metadata": {
        "id": "7Fr_jrthKcit",
        "colab_type": "code",
        "colab": {
          "base_uri": "https://localhost:8080/",
          "height": 0
        },
        "outputId": "23c57a80-51f2-4206-e4c3-535594781b6d"
      },
      "source": [
        "survived = clean_copy.loc[clean_copy['Survived']==1, :]['Sex'].value_counts()\n",
        "perished = clean_copy.loc[clean_copy['Survived']==0, :]['Sex'].value_counts()\n",
        "df_plot  = pd.DataFrame([survived, perished])\n",
        "df_plot.index=['survived','perished']\n",
        "\n",
        "# Plot\n",
        "df_plot.plot(kind='bar',stacked=False, title='Sex and Survival')\n",
        "sns.despine(top=True, left=True, bottom=True, right=True)"
      ],
      "execution_count": 91,
      "outputs": [
        {
          "output_type": "display_data",
          "data": {
            "image/png": "[encoded data removed]",
            "text/plain": [
              "<Figure size 432x288 with 1 Axes>"
            ]
          },
          "metadata": {
            "tags": [],
            "needs_background": "light"
          }
        }
      ]
    },
    {
      "cell_type": "markdown",
      "metadata": {
        "id": "G3-gryw3xRrn",
        "colab_type": "text"
      },
      "source": [
        "Of those who survived the Titanic, a majority were female while a majority of those that perished were male suggesting that females could have been given priority when assigning the limited life boats. "
      ]
    },
    {
      "cell_type": "code",
      "metadata": {
        "id": "fOV0YCK8ONSi",
        "colab_type": "code",
        "colab": {
          "base_uri": "https://localhost:8080/",
          "height": 0
        },
        "outputId": "d6ce4bfd-a18f-4492-eca2-e0f7dd45a828"
      },
      "source": [
        "survived = clean_copy.loc[clean_copy['Survived']==1, :]['Pclass'].value_counts()\n",
        "perished = clean_copy.loc[clean_copy['Survived']==0, :]['Pclass'].value_counts()\n",
        "df_plot  = pd.DataFrame([survived, perished])\n",
        "df_plot.index=['survived','perished']\n",
        "\n",
        "# Plot\n",
        "df_plot.plot(kind='bar',stacked=False, title='Passenger Class and Survival')\n",
        "sns.despine(top=True, left=True, bottom=True, right=True)"
      ],
      "execution_count": 92,
      "outputs": [
        {
          "output_type": "display_data",
          "data": {
            "image/png": "[encoded data removed]",
            "text/plain": [
              "<Figure size 432x288 with 1 Axes>"
            ]
          },
          "metadata": {
            "tags": [],
            "needs_background": "light"
          }
        }
      ]
    },
    {
      "cell_type": "markdown",
      "metadata": {
        "id": "iZwQeLmOxzMv",
        "colab_type": "text"
      },
      "source": [
        "With regards to classes, a majority of the survivors were from the 1st class while a majority of those who perished were from the 3rd class. Since passenger classes were dependent on the fare a passenger paid, it is likely that passengers who paid the highest fares had first priority when occupying lifeboats. "
      ]
    },
    {
      "cell_type": "code",
      "metadata": {
        "id": "ilzMZSnmRoNp",
        "colab_type": "code",
        "colab": {
          "base_uri": "https://localhost:8080/",
          "height": 0
        },
        "outputId": "0b71cfc5-3c15-494e-d57a-ff149d7244a0"
      },
      "source": [
        "# Plot histograms for Titanic passengers\n",
        "perished = clean_copy.groupby(by='Survived').get_group(0)\n",
        "survived = clean_copy.groupby(by='Survived').get_group(1)\n",
        "\n",
        "survived['Age'].plot.kde(label='Age Survived', legend=True)\n",
        "perished['Age'].plot.kde(label='Age Perish', legend=True)\n",
        "plt.title('Age')\n",
        "plt.xlim(left=0)\n",
        "sns.despine(left=True, bottom=True)\n",
        "plt.show()"
      ],
      "execution_count": 93,
      "outputs": [
        {
          "output_type": "display_data",
          "data": {
            "image/png": "[encoded data removed]",
            "text/plain": [
              "<Figure size 432x288 with 1 Axes>"
            ]
          },
          "metadata": {
            "tags": [],
            "needs_background": "light"
          }
        }
      ]
    },
    {
      "cell_type": "markdown",
      "metadata": {
        "id": "ka_A36W1zUDf",
        "colab_type": "text"
      },
      "source": [
        "This plot indicates that there was no significant difference in the average age of passengers who died although it is evident that more passengers perished as evidenced by the high peak."
      ]
    },
    {
      "cell_type": "code",
      "metadata": {
        "id": "aMD71V1USrNx",
        "colab_type": "code",
        "colab": {
          "base_uri": "https://localhost:8080/",
          "height": 0
        },
        "outputId": "693ab651-988b-4e2e-de1e-6f0c3e8ed7e7"
      },
      "source": [
        "survived['Fare'].plot.kde(label='Fare Survived', legend=True)\n",
        "perished['Fare'].plot.kde(label='Fare Perish', legend=True)\n",
        "plt.xlim(left=0)\n",
        "plt.title('Fare')\n",
        "sns.despine(left=True, bottom=True)\n",
        "plt.show()"
      ],
      "execution_count": 94,
      "outputs": [
        {
          "output_type": "display_data",
          "data": {
            "image/png": "[encoded data removed]",
            "text/plain": [
              "<Figure size 432x288 with 1 Axes>"
            ]
          },
          "metadata": {
            "tags": [],
            "needs_background": "light"
          }
        }
      ]
    },
    {
      "cell_type": "markdown",
      "metadata": {
        "id": "91j_GTv_z4Sd",
        "colab_type": "text"
      },
      "source": [
        "The high peak indicates that more passengers who paid between 0 and 50 dollars perished compared to the passengers who paid more than 400 dollars, none of who perished. This was also evidenced by the difference in survivivors across different classes."
      ]
    },
    {
      "cell_type": "markdown",
      "metadata": {
        "id": "w2rieowv1ntp",
        "colab_type": "text"
      },
      "source": [
        "## Modelling\n"
      ]
    },
    {
      "cell_type": "markdown",
      "metadata": {
        "id": "lQYRb9hIKw33",
        "colab_type": "text"
      },
      "source": [
        "### 80-20 split"
      ]
    },
    {
      "cell_type": "code",
      "metadata": {
        "id": "CdWWh8iR0sxh",
        "colab_type": "code",
        "colab": {}
      },
      "source": [
        "# Assign the target and  features\n",
        "X = titanic_clean.drop(['PassengerId', 'Ticket', 'Cabin', 'Survived'], 1)\n",
        "y = titanic_clean['Survived']"
      ],
      "execution_count": 95,
      "outputs": []
    },
    {
      "cell_type": "code",
      "metadata": {
        "id": "-rNRGY7d1st4",
        "colab_type": "code",
        "colab": {}
      },
      "source": [
        "# Split the data set into train and test data \n",
        "from sklearn.model_selection import train_test_split\n",
        "X_train, X_test, y_train, y_test = train_test_split(X, y, test_size=0.2, random_state=69)"
      ],
      "execution_count": 96,
      "outputs": []
    },
    {
      "cell_type": "markdown",
      "metadata": {
        "id": "8z6M4DRU0fby",
        "colab_type": "text"
      },
      "source": [
        "In the spli, I specify a test size of 20%. Additionally, I will also scale the data due to the positive skewness evidenced by the passengers age and fare distribution."
      ]
    },
    {
      "cell_type": "code",
      "metadata": {
        "id": "og0nyMeP2gdq",
        "colab_type": "code",
        "colab": {}
      },
      "source": [
        "# Scale the data\n",
        "from sklearn.preprocessing import StandardScaler\n",
        "scaler = StandardScaler()\n",
        "scaler.fit(X_train)\n",
        "\n",
        "X_train = scaler.transform(X_train)\n",
        "X_test = scaler.transform(X_test)"
      ],
      "execution_count": 97,
      "outputs": []
    },
    {
      "cell_type": "code",
      "metadata": {
        "id": "9uLJUB7_27vZ",
        "colab_type": "code",
        "colab": {
          "base_uri": "https://localhost:8080/",
          "height": 0
        },
        "outputId": "c6031578-f541-4af8-ef4d-23ea68f9244f"
      },
      "source": [
        "# Fit the model\n",
        "from sklearn.neighbors import KNeighborsClassifier\n",
        "classifier = KNeighborsClassifier(n_neighbors=5)\n",
        "classifier.fit(X_train, y_train)"
      ],
      "execution_count": 98,
      "outputs": [
        {
          "output_type": "execute_result",
          "data": {
            "text/plain": [
              "KNeighborsClassifier(algorithm='auto', leaf_size=30, metric='minkowski',\n",
              "                     metric_params=None, n_jobs=None, n_neighbors=5, p=2,\n",
              "                     weights='uniform')"
            ]
          },
          "metadata": {
            "tags": []
          },
          "execution_count": 98
        }
      ]
    },
    {
      "cell_type": "code",
      "metadata": {
        "id": "VbxDBjD53DAH",
        "colab_type": "code",
        "colab": {}
      },
      "source": [
        "# Make predictions\n",
        "y_pred = classifier.predict(X_test)"
      ],
      "execution_count": 99,
      "outputs": []
    },
    {
      "cell_type": "code",
      "metadata": {
        "id": "Ojq9VlGm3Jcd",
        "colab_type": "code",
        "colab": {
          "base_uri": "https://localhost:8080/",
          "height": 0
        },
        "outputId": "51f771b6-ff82-428b-e289-aa48aae3a92f"
      },
      "source": [
        "# Evaluate model performance\n",
        "from sklearn.metrics import classification_report, confusion_matrix\n",
        "sns.heatmap(confusion_matrix(y_test, y_pred), annot=True)\n",
        "plt.show()\n",
        "print('\\n')\n",
        "print(classification_report(y_test, y_pred))"
      ],
      "execution_count": 100,
      "outputs": [
        {
          "output_type": "display_data",
          "data": {
            "image/png": "[encoded data removed]",
            "text/plain": [
              "<Figure size 432x288 with 2 Axes>"
            ]
          },
          "metadata": {
            "tags": [],
            "needs_background": "light"
          }
        },
        {
          "output_type": "stream",
          "text": [
            "\n",
            "\n",
            "              precision    recall  f1-score   support\n",
            "\n",
            "           0       0.84      0.88      0.86       112\n",
            "           1       0.78      0.73      0.75        67\n",
            "\n",
            "    accuracy                           0.82       179\n",
            "   macro avg       0.81      0.80      0.81       179\n",
            "weighted avg       0.82      0.82      0.82       179\n",
            "\n"
          ],
          "name": "stdout"
        }
      ]
    },
    {
      "cell_type": "markdown",
      "metadata": {
        "id": "jwKR8ixx1Nmw",
        "colab_type": "text"
      },
      "source": [
        "Precision refers to the accuracy of positive predictions.\n",
        "\n",
        "Recall refers to the fraction of positives that were correctly classified.\n",
        "\n",
        "F1 score refers to the percentage of positives that were correctly predicted.\n",
        "\n",
        "Using the f1 scores, my model correctly predicted 86% of those who perished in the disaster and 75% of those who survived."
      ]
    },
    {
      "cell_type": "markdown",
      "metadata": {
        "id": "bo9OPuFK4MKt",
        "colab_type": "text"
      },
      "source": [
        "### Perform cross validation"
      ]
    },
    {
      "cell_type": "code",
      "metadata": {
        "id": "ywAUmOvi3Uq2",
        "colab_type": "code",
        "colab": {
          "base_uri": "https://localhost:8080/",
          "height": 0
        },
        "outputId": "4c296b2b-ce17-4712-a274-8dabdd022746"
      },
      "source": [
        "from sklearn.neighbors import KNeighborsClassifier\n",
        "from sklearn.model_selection import cross_val_score\n",
        "# Number of k from 1 to 26\n",
        "k_range = range(1, 26)\n",
        "k_scores = []\n",
        "# Calculate cross validation score for every k number from 1 to 26\n",
        "for k in k_range:\n",
        "  knn = KNeighborsClassifier(n_neighbors=k)\n",
        "# It’s 5 fold cross validation with ‘accuracy’ scoring \n",
        "  scores = cross_val_score(knn, X_train, y_train, cv=5, scoring='accuracy') \n",
        "  k_scores.append(scores.mean())\n",
        "%matplotlib inline\n",
        "# Plot accuracy for every k number between 1 and 26\n",
        "plt.plot(k_range, k_scores)\n",
        "plt.xlabel('Value of K for KNN')\n",
        "plt.ylabel('Cross-validated accuracy')\n",
        "plt.show()"
      ],
      "execution_count": 101,
      "outputs": [
        {
          "output_type": "display_data",
          "data": {
            "image/png": "[encoded data removed]",
            "text/plain": [
              "<Figure size 432x288 with 1 Axes>"
            ]
          },
          "metadata": {
            "tags": [],
            "needs_background": "light"
          }
        }
      ]
    },
    {
      "cell_type": "markdown",
      "metadata": {
        "id": "TQWVe9Lv16Do",
        "colab_type": "text"
      },
      "source": [
        "Using a 5-fold cross-validation technique to find the best value of 'k', the cross-validated accuracy plot indicates that the best value is 12."
      ]
    },
    {
      "cell_type": "code",
      "metadata": {
        "id": "j1OW4TrU4qCS",
        "colab_type": "code",
        "colab": {
          "base_uri": "https://localhost:8080/",
          "height": 0
        },
        "outputId": "1cc3acf4-2c98-42a0-864b-266b6c32212d"
      },
      "source": [
        "# Perform grid search\n",
        "# Specify the parameters\n",
        "grid_param = {\n",
        "    'n_neighbors': range(0,26),\n",
        "    'weights': ['distance', 'uniform'],\n",
        "}\n",
        "\n",
        "from sklearn.neighbors import KNeighborsClassifier\n",
        "classifier = KNeighborsClassifier()\n",
        "\n",
        "from sklearn.model_selection import GridSearchCV\n",
        "gd_sr = GridSearchCV(estimator=classifier,\n",
        "                     param_grid=grid_param,\n",
        "                     scoring='accuracy',\n",
        "                     cv=5)\n",
        "# Fit the model\n",
        "gd_sr.fit(X_train, y_train)\n",
        "print(gd_sr.best_params_)"
      ],
      "execution_count": 102,
      "outputs": [
        {
          "output_type": "stream",
          "text": [
            "{'n_neighbors': 12, 'weights': 'uniform'}\n"
          ],
          "name": "stdout"
        }
      ]
    },
    {
      "cell_type": "markdown",
      "metadata": {
        "id": "dGyA72NE2TzN",
        "colab_type": "text"
      },
      "source": [
        "The grid search confirms the best value of k as 12 while it identfies 'uniform' weights as the best parameter."
      ]
    },
    {
      "cell_type": "code",
      "metadata": {
        "id": "whbqehMmCmk_",
        "colab_type": "code",
        "colab": {
          "base_uri": "https://localhost:8080/",
          "height": 0
        },
        "outputId": "b2796f18-cc41-462c-92de-1fdc18a87f8b"
      },
      "source": [
        "# Use best estimator to make predictions\n",
        "predicted = gd_sr.best_estimator_.predict(X_test)\n",
        "\n",
        "from sklearn.metrics import classification_report, confusion_matrix\n",
        "sns.heatmap(confusion_matrix(y_test, predicted), annot=True)\n",
        "plt.show()\n",
        "print('\\n')\n",
        "print(classification_report(y_test, predicted))"
      ],
      "execution_count": 103,
      "outputs": [
        {
          "output_type": "display_data",
          "data": {
            "image/png": "[encoded data removed]",
            "text/plain": [
              "<Figure size 432x288 with 2 Axes>"
            ]
          },
          "metadata": {
            "tags": [],
            "needs_background": "light"
          }
        },
        {
          "output_type": "stream",
          "text": [
            "\n",
            "\n",
            "              precision    recall  f1-score   support\n",
            "\n",
            "           0       0.85      0.90      0.87       112\n",
            "           1       0.82      0.73      0.77        67\n",
            "\n",
            "    accuracy                           0.84       179\n",
            "   macro avg       0.83      0.82      0.82       179\n",
            "weighted avg       0.84      0.84      0.84       179\n",
            "\n"
          ],
          "name": "stdout"
        }
      ]
    },
    {
      "cell_type": "markdown",
      "metadata": {
        "id": "NUSUaLvX2qJ3",
        "colab_type": "text"
      },
      "source": [
        "Using the best estimator from grid_search, I managed to predict 87% of those who perished in the disaster and 77% of those who survived which is a slight improvement on the previous model."
      ]
    },
    {
      "cell_type": "markdown",
      "metadata": {
        "id": "cjQ78LpPQxaT",
        "colab_type": "text"
      },
      "source": [
        "### Performing feature reduction"
      ]
    },
    {
      "cell_type": "markdown",
      "metadata": {
        "id": "60d9-UKsfdbb",
        "colab_type": "text"
      },
      "source": [
        "#### LDA"
      ]
    },
    {
      "cell_type": "code",
      "metadata": {
        "id": "QpRitrlCQ11s",
        "colab_type": "code",
        "colab": {
          "base_uri": "https://localhost:8080/",
          "height": 0
        },
        "outputId": "2daf05d4-6889-44b3-c039-b4636f7d96ca"
      },
      "source": [
        "# Feature reduction using LDA\n",
        "from sklearn.discriminant_analysis import LinearDiscriminantAnalysis as LDA\n",
        "lda = LDA()\n",
        "lda_ = lda.fit(X, y)\n",
        "lda_feat = lda.transform(X)\n",
        "\n",
        "f_imp = pd.DataFrame(index=X.columns.values, data=lda_.coef_[0].T)\n",
        "feature_importance = f_imp.sort_values(0, ascending=False)\n",
        "feature_importance.plot(kind='bar')\n",
        "plt.title('LDA Feature Importance')\n",
        "sns.despine(bottom=True, left=True, right=True, top=True)\n",
        "plt.show()"
      ],
      "execution_count": 104,
      "outputs": [
        {
          "output_type": "display_data",
          "data": {
            "image/png": "[encoded data removed]",
            "text/plain": [
              "<Figure size 432x288 with 1 Axes>"
            ]
          },
          "metadata": {
            "tags": [],
            "needs_background": "light"
          }
        }
      ]
    },
    {
      "cell_type": "markdown",
      "metadata": {
        "id": "DxEQ7fG33KSM",
        "colab_type": "text"
      },
      "source": [
        "The most important features in predicting a passengers survival status is their gender, their title as either Master or Rev, and their class."
      ]
    },
    {
      "cell_type": "code",
      "metadata": {
        "id": "cEkedK5UTcvC",
        "colab_type": "code",
        "colab": {}
      },
      "source": [
        "# LDA using 1 discriminants\n",
        "from sklearn.discriminant_analysis import LinearDiscriminantAnalysis as LDA\n",
        "lda = LDA(n_components=1)\n",
        "X_train = lda.fit_transform(X_train, y_train)\n",
        "X_test = lda.transform(X_test)"
      ],
      "execution_count": 105,
      "outputs": []
    },
    {
      "cell_type": "markdown",
      "metadata": {
        "id": "URpJq6ua3uHt",
        "colab_type": "text"
      },
      "source": [
        "Varying the linear discriminats did not result in an improvement in the model's performance."
      ]
    },
    {
      "cell_type": "code",
      "metadata": {
        "id": "AHzoXl8OTo_0",
        "colab_type": "code",
        "colab": {
          "base_uri": "https://localhost:8080/",
          "height": 0
        },
        "outputId": "d26321d6-c768-421a-aded-c00af151c38c"
      },
      "source": [
        "# Perform grid search\n",
        "# Specify the parameters\n",
        "grid_param = {\n",
        "    'n_neighbors': range(0,26),\n",
        "    'weights': ['distance', 'uniform'],\n",
        "}\n",
        "\n",
        "from sklearn.neighbors import KNeighborsClassifier\n",
        "classifier = KNeighborsClassifier()\n",
        "\n",
        "from sklearn.model_selection import GridSearchCV\n",
        "gd_sr = GridSearchCV(estimator=classifier,\n",
        "                     param_grid=grid_param,\n",
        "                     scoring='accuracy',\n",
        "                     cv=5)\n",
        "# Fit the model\n",
        "gd_sr.fit(X_train, y_train)\n",
        "print(gd_sr.best_params_)"
      ],
      "execution_count": 106,
      "outputs": [
        {
          "output_type": "stream",
          "text": [
            "{'n_neighbors': 12, 'weights': 'uniform'}\n"
          ],
          "name": "stdout"
        }
      ]
    },
    {
      "cell_type": "markdown",
      "metadata": {
        "id": "s4HveYN-3-08",
        "colab_type": "text"
      },
      "source": [
        "Using grid search, I identified the best parameters as 12 n_neighbors and 'uniform' weights,"
      ]
    },
    {
      "cell_type": "code",
      "metadata": {
        "id": "eChL4AveT4B1",
        "colab_type": "code",
        "colab": {
          "base_uri": "https://localhost:8080/",
          "height": 0
        },
        "outputId": "7ccdef6f-2246-4121-9b0c-dd7b7e1b69c1"
      },
      "source": [
        "# Use best estimator to make predictions\n",
        "predicted = gd_sr.best_estimator_.predict(X_test)\n",
        "\n",
        "from sklearn.metrics import classification_report, confusion_matrix\n",
        "sns.heatmap(confusion_matrix(y_test, predicted), annot=True)\n",
        "plt.show()\n",
        "print('\\n')\n",
        "print(classification_report(y_test, predicted))"
      ],
      "execution_count": 107,
      "outputs": [
        {
          "output_type": "display_data",
          "data": {
            "image/png": "[encoded data removed]",
            "text/plain": [
              "<Figure size 432x288 with 2 Axes>"
            ]
          },
          "metadata": {
            "tags": [],
            "needs_background": "light"
          }
        },
        {
          "output_type": "stream",
          "text": [
            "\n",
            "\n",
            "              precision    recall  f1-score   support\n",
            "\n",
            "           0       0.83      0.93      0.88       112\n",
            "           1       0.85      0.69      0.76        67\n",
            "\n",
            "    accuracy                           0.84       179\n",
            "   macro avg       0.84      0.81      0.82       179\n",
            "weighted avg       0.84      0.84      0.83       179\n",
            "\n"
          ],
          "name": "stdout"
        }
      ]
    },
    {
      "cell_type": "markdown",
      "metadata": {
        "id": "OhVSBBHt4UdJ",
        "colab_type": "text"
      },
      "source": [
        "Using 1 linear discriminant and the best estimator from grid_search, I managed to correctly predict 88% of those who perished in the disaster and 76% of those who survived which is a slight improvement on the previous model."
      ]
    },
    {
      "cell_type": "markdown",
      "metadata": {
        "id": "5EnYnEp2fhhJ",
        "colab_type": "text"
      },
      "source": [
        "#### PCA"
      ]
    },
    {
      "cell_type": "code",
      "metadata": {
        "id": "-xLzfvExgds_",
        "colab_type": "code",
        "colab": {}
      },
      "source": [
        "# Assign the target and  features\n",
        "X = titanic_clean.drop(['PassengerId', 'Ticket', 'Cabin', 'Survived'], 1)\n",
        "y = titanic_clean['Survived']\n",
        "\n",
        "# Split the data set into train and test data \n",
        "from sklearn.model_selection import train_test_split\n",
        "X_train, X_test, y_train, y_test = train_test_split(X, y, test_size=0.2, random_state=69)\n",
        "\n",
        "# Scale the data\n",
        "from sklearn.preprocessing import StandardScaler\n",
        "scaler = StandardScaler()\n",
        "scaler.fit(X_train)\n",
        "\n",
        "X_train = scaler.transform(X_train)\n",
        "X_test = scaler.transform(X_test)"
      ],
      "execution_count": 108,
      "outputs": []
    },
    {
      "cell_type": "code",
      "metadata": {
        "id": "lBi7NFE0fhDM",
        "colab_type": "code",
        "colab": {}
      },
      "source": [
        "from sklearn.decomposition import PCA\n",
        "\n",
        "pca = PCA()\n",
        "X_train = pca.fit_transform(X_train)\n",
        "X_test = pca.transform(X_test)"
      ],
      "execution_count": 109,
      "outputs": []
    },
    {
      "cell_type": "code",
      "metadata": {
        "id": "QVQN9JaLfvIy",
        "colab_type": "code",
        "colab": {
          "base_uri": "https://localhost:8080/",
          "height": 0
        },
        "outputId": "5e75b9e0-14b7-4670-b6d4-03ec1c0663dc"
      },
      "source": [
        "explained_variance = pd.DataFrame(range(1,14))\n",
        "explained_variance['explained_variance'] = pca.explained_variance_ratio_\n",
        "explained_variance.columns = ['principal_component', 'explained_variance']\n",
        "explained_variance"
      ],
      "execution_count": 110,
      "outputs": [
        {
          "output_type": "execute_result",
          "data": {
            "text/html": [
              "<div>\n",
              "<style scoped>\n",
              "    .dataframe tbody tr th:only-of-type {\n",
              "        vertical-align: middle;\n",
              "    }\n",
              "\n",
              "    .dataframe tbody tr th {\n",
              "        vertical-align: top;\n",
              "    }\n",
              "\n",
              "    .dataframe thead th {\n",
              "        text-align: right;\n",
              "    }\n",
              "</style>\n",
              "<table border=\"1\" class=\"dataframe\">\n",
              "  <thead>\n",
              "    <tr style=\"text-align: right;\">\n",
              "      <th></th>\n",
              "      <th>principal_component</th>\n",
              "      <th>explained_variance</th>\n",
              "    </tr>\n",
              "  </thead>\n",
              "  <tbody>\n",
              "    <tr>\n",
              "      <th>0</th>\n",
              "      <td>1</td>\n",
              "      <td>0.232405</td>\n",
              "    </tr>\n",
              "    <tr>\n",
              "      <th>1</th>\n",
              "      <td>2</td>\n",
              "      <td>0.161745</td>\n",
              "    </tr>\n",
              "    <tr>\n",
              "      <th>2</th>\n",
              "      <td>3</td>\n",
              "      <td>0.117666</td>\n",
              "    </tr>\n",
              "    <tr>\n",
              "      <th>3</th>\n",
              "      <td>4</td>\n",
              "      <td>0.100715</td>\n",
              "    </tr>\n",
              "    <tr>\n",
              "      <th>4</th>\n",
              "      <td>5</td>\n",
              "      <td>0.079466</td>\n",
              "    </tr>\n",
              "    <tr>\n",
              "      <th>5</th>\n",
              "      <td>6</td>\n",
              "      <td>0.076862</td>\n",
              "    </tr>\n",
              "    <tr>\n",
              "      <th>6</th>\n",
              "      <td>7</td>\n",
              "      <td>0.070012</td>\n",
              "    </tr>\n",
              "    <tr>\n",
              "      <th>7</th>\n",
              "      <td>8</td>\n",
              "      <td>0.056624</td>\n",
              "    </tr>\n",
              "    <tr>\n",
              "      <th>8</th>\n",
              "      <td>9</td>\n",
              "      <td>0.041400</td>\n",
              "    </tr>\n",
              "    <tr>\n",
              "      <th>9</th>\n",
              "      <td>10</td>\n",
              "      <td>0.037354</td>\n",
              "    </tr>\n",
              "    <tr>\n",
              "      <th>10</th>\n",
              "      <td>11</td>\n",
              "      <td>0.023579</td>\n",
              "    </tr>\n",
              "    <tr>\n",
              "      <th>11</th>\n",
              "      <td>12</td>\n",
              "      <td>0.001514</td>\n",
              "    </tr>\n",
              "    <tr>\n",
              "      <th>12</th>\n",
              "      <td>13</td>\n",
              "      <td>0.000658</td>\n",
              "    </tr>\n",
              "  </tbody>\n",
              "</table>\n",
              "</div>"
            ],
            "text/plain": [
              "    principal_component  explained_variance\n",
              "0                     1            0.232405\n",
              "1                     2            0.161745\n",
              "2                     3            0.117666\n",
              "3                     4            0.100715\n",
              "4                     5            0.079466\n",
              "5                     6            0.076862\n",
              "6                     7            0.070012\n",
              "7                     8            0.056624\n",
              "8                     9            0.041400\n",
              "9                    10            0.037354\n",
              "10                   11            0.023579\n",
              "11                   12            0.001514\n",
              "12                   13            0.000658"
            ]
          },
          "metadata": {
            "tags": []
          },
          "execution_count": 110
        }
      ]
    },
    {
      "cell_type": "code",
      "metadata": {
        "id": "yuoAms1wi146",
        "colab_type": "code",
        "colab": {}
      },
      "source": [
        "from sklearn.decomposition import PCA\n",
        "\n",
        "pca = PCA(n_components=9)\n",
        "X_train = pca.fit_transform(X_train)\n",
        "X_test = pca.transform(X_test)"
      ],
      "execution_count": 111,
      "outputs": []
    },
    {
      "cell_type": "markdown",
      "metadata": {
        "id": "6mNUK9t741TV",
        "colab_type": "text"
      },
      "source": [
        "I attained the best model performance using 9 principal components"
      ]
    },
    {
      "cell_type": "code",
      "metadata": {
        "id": "-Sq1Yyq6i7wg",
        "colab_type": "code",
        "colab": {
          "base_uri": "https://localhost:8080/",
          "height": 0
        },
        "outputId": "ed53efce-8094-4a46-b293-8e9131f4fa93"
      },
      "source": [
        "# Perform grid search\n",
        "# Specify the parameters\n",
        "grid_param = {\n",
        "    'n_neighbors': range(0,26),\n",
        "    'weights': ['distance', 'uniform'],\n",
        "}\n",
        "\n",
        "from sklearn.neighbors import KNeighborsClassifier\n",
        "classifier = KNeighborsClassifier()\n",
        "\n",
        "from sklearn.model_selection import GridSearchCV\n",
        "gd_sr = GridSearchCV(estimator=classifier,\n",
        "                     param_grid=grid_param,\n",
        "                     scoring='accuracy',\n",
        "                     cv=5)\n",
        "# Fit the model\n",
        "gd_sr.fit(X_train, y_train)\n",
        "print(gd_sr.best_params_)"
      ],
      "execution_count": 112,
      "outputs": [
        {
          "output_type": "stream",
          "text": [
            "{'n_neighbors': 12, 'weights': 'uniform'}\n"
          ],
          "name": "stdout"
        }
      ]
    },
    {
      "cell_type": "code",
      "metadata": {
        "id": "wSE65PVRjMvx",
        "colab_type": "code",
        "colab": {
          "base_uri": "https://localhost:8080/",
          "height": 0
        },
        "outputId": "286ea512-a8c4-4d6d-b98b-ed851c2140e3"
      },
      "source": [
        "# Use best estimator to make predictions\n",
        "predicted = gd_sr.best_estimator_.predict(X_test)\n",
        "\n",
        "from sklearn.metrics import classification_report, confusion_matrix\n",
        "sns.heatmap(confusion_matrix(y_test, predicted), annot=True)\n",
        "plt.show()\n",
        "print('\\n')\n",
        "print(classification_report(y_test, predicted))"
      ],
      "execution_count": 113,
      "outputs": [
        {
          "output_type": "display_data",
          "data": {
            "image/png": "[encoded data removed]",
            "text/plain": [
              "<Figure size 432x288 with 2 Axes>"
            ]
          },
          "metadata": {
            "tags": [],
            "needs_background": "light"
          }
        },
        {
          "output_type": "stream",
          "text": [
            "\n",
            "\n",
            "              precision    recall  f1-score   support\n",
            "\n",
            "           0       0.86      0.90      0.88       112\n",
            "           1       0.82      0.75      0.78        67\n",
            "\n",
            "    accuracy                           0.84       179\n",
            "   macro avg       0.84      0.82      0.83       179\n",
            "weighted avg       0.84      0.84      0.84       179\n",
            "\n"
          ],
          "name": "stdout"
        }
      ]
    },
    {
      "cell_type": "markdown",
      "metadata": {
        "id": "21e2tmP14quL",
        "colab_type": "text"
      },
      "source": [
        "Using 9 principal component and the best estimator from grid_search, I managed to correctly predict 88% of those who perished in the disaster and 78% of those who survived which is a slight improvement on the LDA model as it has a higher f1 score for survivors."
      ]
    },
    {
      "cell_type": "markdown",
      "metadata": {
        "id": "Me7nwZMWK269",
        "colab_type": "text"
      },
      "source": [
        "### 70-30 split"
      ]
    },
    {
      "cell_type": "code",
      "metadata": {
        "id": "8L--X8ryD69-",
        "colab_type": "code",
        "colab": {}
      },
      "source": [
        "# Split the data set into train and test data \n",
        "from sklearn.model_selection import train_test_split\n",
        "X_train, X_test, y_train, y_test = train_test_split(X, y, test_size=0.3, random_state=69)"
      ],
      "execution_count": 114,
      "outputs": []
    },
    {
      "cell_type": "markdown",
      "metadata": {
        "id": "AfrXVWLC5MPU",
        "colab_type": "text"
      },
      "source": [
        "I specify a test size of 30% and scale the data due to the skewed features."
      ]
    },
    {
      "cell_type": "code",
      "metadata": {
        "id": "PBfMsaHcK8sl",
        "colab_type": "code",
        "colab": {}
      },
      "source": [
        "# Scale the data\n",
        "from sklearn.preprocessing import StandardScaler\n",
        "scaler = StandardScaler()\n",
        "scaler.fit(X_train)\n",
        "\n",
        "X_train = scaler.transform(X_train)\n",
        "X_test = scaler.transform(X_test)"
      ],
      "execution_count": 115,
      "outputs": []
    },
    {
      "cell_type": "code",
      "metadata": {
        "id": "CVZsvAnaLBdl",
        "colab_type": "code",
        "colab": {
          "base_uri": "https://localhost:8080/",
          "height": 0
        },
        "outputId": "6f5dac6a-eb59-402e-c8c4-33bafa85a3b5"
      },
      "source": [
        "from sklearn.neighbors import KNeighborsClassifier\n",
        "from sklearn.model_selection import cross_val_score\n",
        "# Number of k from 1 to 26\n",
        "k_range = range(1, 26)\n",
        "k_scores = []\n",
        "# Calculate cross validation score for every k number from 1 to 26\n",
        "for k in k_range:\n",
        "  knn = KNeighborsClassifier(n_neighbors=k)\n",
        "# It’s 10 fold cross validation with ‘accuracy’ scoring \n",
        "  scores = cross_val_score(knn, X_train, y_train, cv=5, scoring='accuracy') \n",
        "  k_scores.append(scores.mean())\n",
        "%matplotlib inline\n",
        "# Plot accuracy for every k number between 1 and 26\n",
        "plt.plot(k_range, k_scores)\n",
        "plt.xlabel('Value of K for KNN')\n",
        "plt.ylabel('Cross-validated accuracy')\n",
        "plt.show()"
      ],
      "execution_count": 116,
      "outputs": [
        {
          "output_type": "display_data",
          "data": {
            "image/png": "[encoded data removed]",
            "text/plain": [
              "<Figure size 432x288 with 1 Axes>"
            ]
          },
          "metadata": {
            "tags": [],
            "needs_background": "light"
          }
        }
      ]
    },
    {
      "cell_type": "markdown",
      "metadata": {
        "id": "ShhqIzr75XB8",
        "colab_type": "text"
      },
      "source": [
        "With a split size of 30%, the best value of k is 14."
      ]
    },
    {
      "cell_type": "code",
      "metadata": {
        "id": "JkW_yolGLFxt",
        "colab_type": "code",
        "colab": {
          "base_uri": "https://localhost:8080/",
          "height": 0
        },
        "outputId": "1038db32-1639-4658-dbd7-779d5068b78a"
      },
      "source": [
        "# Perform grid search\n",
        "# Specify the parameters\n",
        "grid_param = {\n",
        "    'n_neighbors': range(0,26),\n",
        "    'weights': ['distance', 'uniform'],\n",
        "}\n",
        "\n",
        "from sklearn.neighbors import KNeighborsClassifier\n",
        "classifier = KNeighborsClassifier()\n",
        "\n",
        "from sklearn.model_selection import GridSearchCV\n",
        "gd_sr = GridSearchCV(estimator=classifier,\n",
        "                     param_grid=grid_param,\n",
        "                     scoring='accuracy',\n",
        "                     cv=5)\n",
        "# Fit the model\n",
        "gd_sr.fit(X_train, y_train)\n",
        "print(gd_sr.best_params_)"
      ],
      "execution_count": 117,
      "outputs": [
        {
          "output_type": "stream",
          "text": [
            "{'n_neighbors': 14, 'weights': 'uniform'}\n"
          ],
          "name": "stdout"
        }
      ]
    },
    {
      "cell_type": "code",
      "metadata": {
        "id": "GjjNtPVOLHuK",
        "colab_type": "code",
        "colab": {
          "base_uri": "https://localhost:8080/",
          "height": 0
        },
        "outputId": "ae3dcab4-d4e8-42bf-96a5-4ff824ad9eff"
      },
      "source": [
        "# Use best estimator to make predictions\n",
        "predicted = gd_sr.best_estimator_.predict(X_test)\n",
        "\n",
        "from sklearn.metrics import classification_report, confusion_matrix\n",
        "sns.heatmap(confusion_matrix(y_test, predicted), annot=True)\n",
        "plt.show()\n",
        "print('\\n')\n",
        "print(classification_report(y_test, predicted))"
      ],
      "execution_count": 118,
      "outputs": [
        {
          "output_type": "display_data",
          "data": {
            "image/png": "[encoded data removed]",
            "text/plain": [
              "<Figure size 432x288 with 2 Axes>"
            ]
          },
          "metadata": {
            "tags": [],
            "needs_background": "light"
          }
        },
        {
          "output_type": "stream",
          "text": [
            "\n",
            "\n",
            "              precision    recall  f1-score   support\n",
            "\n",
            "           0       0.84      0.92      0.88       168\n",
            "           1       0.84      0.71      0.77       100\n",
            "\n",
            "    accuracy                           0.84       268\n",
            "   macro avg       0.84      0.81      0.82       268\n",
            "weighted avg       0.84      0.84      0.84       268\n",
            "\n"
          ],
          "name": "stdout"
        }
      ]
    },
    {
      "cell_type": "markdown",
      "metadata": {
        "id": "Rf2WuyxU5gaz",
        "colab_type": "text"
      },
      "source": [
        "Judging by the f1 scores, my model correctly predict 88% of those who perished in the disaster and 77% of those who survived."
      ]
    },
    {
      "cell_type": "markdown",
      "metadata": {
        "id": "GBRhIUt6M970",
        "colab_type": "text"
      },
      "source": [
        "### Performing Feature Reduction"
      ]
    },
    {
      "cell_type": "markdown",
      "metadata": {
        "id": "O9DBqlVZ-ZWU",
        "colab_type": "text"
      },
      "source": [
        "#### LDA"
      ]
    },
    {
      "cell_type": "code",
      "metadata": {
        "id": "NGkZ1URFLKh3",
        "colab_type": "code",
        "colab": {
          "base_uri": "https://localhost:8080/",
          "height": 0
        },
        "outputId": "e41661a5-5cd9-4f9f-f7e1-541e5864e202"
      },
      "source": [
        "# Feature reduction using LDA\n",
        "from sklearn.discriminant_analysis import LinearDiscriminantAnalysis as LDA\n",
        "lda = LDA()\n",
        "lda_ = lda.fit(X, y)\n",
        "lda_feat = lda.transform(X)\n",
        "\n",
        "f_imp = pd.DataFrame(index=X.columns.values, data=lda_.coef_[0].T)\n",
        "feature_importance = f_imp.sort_values(0, ascending=False)\n",
        "feature_importance.plot(kind='bar')\n",
        "plt.title('LDA Feature Importance')\n",
        "sns.despine(bottom=True, left=True, right=True, top=True)\n",
        "plt.show()"
      ],
      "execution_count": 119,
      "outputs": [
        {
          "output_type": "display_data",
          "data": {
            "image/png": "[encoded data removed]",
            "text/plain": [
              "<Figure size 432x288 with 1 Axes>"
            ]
          },
          "metadata": {
            "tags": [],
            "needs_background": "light"
          }
        }
      ]
    },
    {
      "cell_type": "markdown",
      "metadata": {
        "id": "mTRuI8UU5_lM",
        "colab_type": "text"
      },
      "source": [
        "As was expected, the difference in split size does not affect the importance of the different features."
      ]
    },
    {
      "cell_type": "code",
      "metadata": {
        "id": "dx3ql_t3dXv9",
        "colab_type": "code",
        "colab": {}
      },
      "source": [
        "# LDA using 1 discriminant\n",
        "from sklearn.discriminant_analysis import LinearDiscriminantAnalysis as LDA\n",
        "lda = LDA(n_components=1)\n",
        "X_train = lda.fit_transform(X_train, y_train)\n",
        "X_test = lda.transform(X_test)"
      ],
      "execution_count": 120,
      "outputs": []
    },
    {
      "cell_type": "markdown",
      "metadata": {
        "id": "FTtnZuCw6KXG",
        "colab_type": "text"
      },
      "source": [
        "I attained the best performance using 1 linear discriminant"
      ]
    },
    {
      "cell_type": "code",
      "metadata": {
        "id": "dfHyFP-EdbUX",
        "colab_type": "code",
        "colab": {
          "base_uri": "https://localhost:8080/",
          "height": 0
        },
        "outputId": "ec19213c-3355-4bfd-8444-352eed360668"
      },
      "source": [
        "# Perform grid search\n",
        "# Specify the parameters\n",
        "grid_param = {\n",
        "    'n_neighbors': range(0,26),\n",
        "    'weights': ['distance', 'uniform'],\n",
        "}\n",
        "\n",
        "from sklearn.neighbors import KNeighborsClassifier\n",
        "classifier = KNeighborsClassifier()\n",
        "\n",
        "from sklearn.model_selection import GridSearchCV\n",
        "gd_sr = GridSearchCV(estimator=classifier,\n",
        "                     param_grid=grid_param,\n",
        "                     scoring='accuracy',\n",
        "                     cv=5)\n",
        "# Fit the model\n",
        "gd_sr.fit(X_train, y_train)\n",
        "print(gd_sr.best_params_)"
      ],
      "execution_count": 121,
      "outputs": [
        {
          "output_type": "stream",
          "text": [
            "{'n_neighbors': 13, 'weights': 'uniform'}\n"
          ],
          "name": "stdout"
        }
      ]
    },
    {
      "cell_type": "markdown",
      "metadata": {
        "id": "u1gH6RlF6RRH",
        "colab_type": "text"
      },
      "source": [
        "The best parameter value of k is 13 while the weights is 'uniform'."
      ]
    },
    {
      "cell_type": "code",
      "metadata": {
        "id": "XRPnCwusdepU",
        "colab_type": "code",
        "colab": {
          "base_uri": "https://localhost:8080/",
          "height": 0
        },
        "outputId": "3decbc8d-5da5-4a19-a1b4-7c894e587934"
      },
      "source": [
        "# Use best estimator to make predictions\n",
        "predicted = gd_sr.best_estimator_.predict(X_test)\n",
        "\n",
        "from sklearn.metrics import classification_report, confusion_matrix\n",
        "sns.heatmap(confusion_matrix(y_test, predicted), annot=True)\n",
        "plt.show()\n",
        "print('\\n')\n",
        "print(classification_report(y_test, predicted))"
      ],
      "execution_count": 122,
      "outputs": [
        {
          "output_type": "display_data",
          "data": {
            "image/png": "[encoded data removed]",
            "text/plain": [
              "<Figure size 432x288 with 2 Axes>"
            ]
          },
          "metadata": {
            "tags": [],
            "needs_background": "light"
          }
        },
        {
          "output_type": "stream",
          "text": [
            "\n",
            "\n",
            "              precision    recall  f1-score   support\n",
            "\n",
            "           0       0.85      0.92      0.88       168\n",
            "           1       0.85      0.72      0.78       100\n",
            "\n",
            "    accuracy                           0.85       268\n",
            "   macro avg       0.85      0.82      0.83       268\n",
            "weighted avg       0.85      0.85      0.84       268\n",
            "\n"
          ],
          "name": "stdout"
        }
      ]
    },
    {
      "cell_type": "markdown",
      "metadata": {
        "id": "Q7gygsHd6e19",
        "colab_type": "text"
      },
      "source": [
        "Using 1 linear discriminant and the best estimator from grid_search, I managed to correctly predict 88% of those who perished in the disaster and 78% of those who survived. Although the f1 scores are very similar to previous model, this model has a slightly higher accuracy."
      ]
    },
    {
      "cell_type": "markdown",
      "metadata": {
        "colab_type": "text",
        "id": "UiozkyXUldUm"
      },
      "source": [
        "#### PCA"
      ]
    },
    {
      "cell_type": "code",
      "metadata": {
        "id": "LQrPQEcwlba9",
        "colab_type": "code",
        "colab": {}
      },
      "source": [
        "# Assign the target and  features\n",
        "X = titanic_clean.drop(['PassengerId', 'Ticket', 'Cabin', 'Survived'], 1)\n",
        "y = titanic_clean['Survived']\n",
        "\n",
        "# Split the data set into train and test data \n",
        "from sklearn.model_selection import train_test_split\n",
        "X_train, X_test, y_train, y_test = train_test_split(X, y, test_size=0.3, random_state=69)\n",
        "\n",
        "# Scale the data\n",
        "from sklearn.preprocessing import StandardScaler\n",
        "scaler = StandardScaler()\n",
        "scaler.fit(X_train)\n",
        "\n",
        "X_train = scaler.transform(X_train)\n",
        "X_test = scaler.transform(X_test)"
      ],
      "execution_count": 123,
      "outputs": []
    },
    {
      "cell_type": "code",
      "metadata": {
        "id": "z0Gbxg6Hdica",
        "colab_type": "code",
        "colab": {}
      },
      "source": [
        "from sklearn.decomposition import PCA\n",
        "\n",
        "pca = PCA()\n",
        "X_train = pca.fit_transform(X_train)\n",
        "X_test = pca.transform(X_test)"
      ],
      "execution_count": 124,
      "outputs": []
    },
    {
      "cell_type": "code",
      "metadata": {
        "id": "I9VApp2zmQda",
        "colab_type": "code",
        "colab": {
          "base_uri": "https://localhost:8080/",
          "height": 0
        },
        "outputId": "016a4d6e-27a9-4b48-a64a-9b87899a7524"
      },
      "source": [
        "explained_variance = pd.DataFrame(range(1,14))\n",
        "explained_variance['explained_variance'] = pca.explained_variance_ratio_\n",
        "explained_variance.columns = ['principal_component', 'explained_variance']\n",
        "explained_variance"
      ],
      "execution_count": 125,
      "outputs": [
        {
          "output_type": "execute_result",
          "data": {
            "text/html": [
              "<div>\n",
              "<style scoped>\n",
              "    .dataframe tbody tr th:only-of-type {\n",
              "        vertical-align: middle;\n",
              "    }\n",
              "\n",
              "    .dataframe tbody tr th {\n",
              "        vertical-align: top;\n",
              "    }\n",
              "\n",
              "    .dataframe thead th {\n",
              "        text-align: right;\n",
              "    }\n",
              "</style>\n",
              "<table border=\"1\" class=\"dataframe\">\n",
              "  <thead>\n",
              "    <tr style=\"text-align: right;\">\n",
              "      <th></th>\n",
              "      <th>principal_component</th>\n",
              "      <th>explained_variance</th>\n",
              "    </tr>\n",
              "  </thead>\n",
              "  <tbody>\n",
              "    <tr>\n",
              "      <th>0</th>\n",
              "      <td>1</td>\n",
              "      <td>0.230617</td>\n",
              "    </tr>\n",
              "    <tr>\n",
              "      <th>1</th>\n",
              "      <td>2</td>\n",
              "      <td>0.164346</td>\n",
              "    </tr>\n",
              "    <tr>\n",
              "      <th>2</th>\n",
              "      <td>3</td>\n",
              "      <td>0.117388</td>\n",
              "    </tr>\n",
              "    <tr>\n",
              "      <th>3</th>\n",
              "      <td>4</td>\n",
              "      <td>0.102461</td>\n",
              "    </tr>\n",
              "    <tr>\n",
              "      <th>4</th>\n",
              "      <td>5</td>\n",
              "      <td>0.078759</td>\n",
              "    </tr>\n",
              "    <tr>\n",
              "      <th>5</th>\n",
              "      <td>6</td>\n",
              "      <td>0.076212</td>\n",
              "    </tr>\n",
              "    <tr>\n",
              "      <th>6</th>\n",
              "      <td>7</td>\n",
              "      <td>0.070075</td>\n",
              "    </tr>\n",
              "    <tr>\n",
              "      <th>7</th>\n",
              "      <td>8</td>\n",
              "      <td>0.054556</td>\n",
              "    </tr>\n",
              "    <tr>\n",
              "      <th>8</th>\n",
              "      <td>9</td>\n",
              "      <td>0.041040</td>\n",
              "    </tr>\n",
              "    <tr>\n",
              "      <th>9</th>\n",
              "      <td>10</td>\n",
              "      <td>0.037894</td>\n",
              "    </tr>\n",
              "    <tr>\n",
              "      <th>10</th>\n",
              "      <td>11</td>\n",
              "      <td>0.024553</td>\n",
              "    </tr>\n",
              "    <tr>\n",
              "      <th>11</th>\n",
              "      <td>12</td>\n",
              "      <td>0.001417</td>\n",
              "    </tr>\n",
              "    <tr>\n",
              "      <th>12</th>\n",
              "      <td>13</td>\n",
              "      <td>0.000682</td>\n",
              "    </tr>\n",
              "  </tbody>\n",
              "</table>\n",
              "</div>"
            ],
            "text/plain": [
              "    principal_component  explained_variance\n",
              "0                     1            0.230617\n",
              "1                     2            0.164346\n",
              "2                     3            0.117388\n",
              "3                     4            0.102461\n",
              "4                     5            0.078759\n",
              "5                     6            0.076212\n",
              "6                     7            0.070075\n",
              "7                     8            0.054556\n",
              "8                     9            0.041040\n",
              "9                    10            0.037894\n",
              "10                   11            0.024553\n",
              "11                   12            0.001417\n",
              "12                   13            0.000682"
            ]
          },
          "metadata": {
            "tags": []
          },
          "execution_count": 125
        }
      ]
    },
    {
      "cell_type": "code",
      "metadata": {
        "id": "nHK3jti-mV4R",
        "colab_type": "code",
        "colab": {}
      },
      "source": [
        "from sklearn.decomposition import PCA\n",
        "\n",
        "pca = PCA(n_components=11)\n",
        "X_train = pca.fit_transform(X_train)\n",
        "X_test = pca.transform(X_test)"
      ],
      "execution_count": 126,
      "outputs": []
    },
    {
      "cell_type": "code",
      "metadata": {
        "id": "JrEvtdvzma_5",
        "colab_type": "code",
        "colab": {
          "base_uri": "https://localhost:8080/",
          "height": 0
        },
        "outputId": "8c0b96f1-c271-4fe1-c838-980e85b12779"
      },
      "source": [
        "# Perform grid search\n",
        "# Specify the parameters\n",
        "grid_param = {\n",
        "    'n_neighbors': range(0,26),\n",
        "    'weights': ['distance', 'uniform'],\n",
        "}\n",
        "\n",
        "from sklearn.neighbors import KNeighborsClassifier\n",
        "classifier = KNeighborsClassifier()\n",
        "\n",
        "from sklearn.model_selection import GridSearchCV\n",
        "gd_sr = GridSearchCV(estimator=classifier,\n",
        "                     param_grid=grid_param,\n",
        "                     scoring='accuracy',\n",
        "                     cv=5)\n",
        "# Fit the model\n",
        "gd_sr.fit(X_train, y_train)\n",
        "print(gd_sr.best_params_)"
      ],
      "execution_count": 127,
      "outputs": [
        {
          "output_type": "stream",
          "text": [
            "{'n_neighbors': 14, 'weights': 'uniform'}\n"
          ],
          "name": "stdout"
        }
      ]
    },
    {
      "cell_type": "code",
      "metadata": {
        "id": "jsrOC8MemfDC",
        "colab_type": "code",
        "colab": {
          "base_uri": "https://localhost:8080/",
          "height": 0
        },
        "outputId": "846f48de-2e9a-4763-ec9f-ee1b693c97df"
      },
      "source": [
        "# Use best estimator to make predictions\n",
        "predicted = gd_sr.best_estimator_.predict(X_test)\n",
        "\n",
        "from sklearn.metrics import classification_report, confusion_matrix\n",
        "sns.heatmap(confusion_matrix(y_test, predicted), annot=True)\n",
        "plt.show()\n",
        "print('\\n')\n",
        "print(classification_report(y_test, predicted))"
      ],
      "execution_count": 128,
      "outputs": [
        {
          "output_type": "display_data",
          "data": {
            "image/png": "[encoded data removed]",
            "text/plain": [
              "<Figure size 432x288 with 2 Axes>"
            ]
          },
          "metadata": {
            "tags": [],
            "needs_background": "light"
          }
        },
        {
          "output_type": "stream",
          "text": [
            "\n",
            "\n",
            "              precision    recall  f1-score   support\n",
            "\n",
            "           0       0.85      0.92      0.88       168\n",
            "           1       0.84      0.72      0.77       100\n",
            "\n",
            "    accuracy                           0.84       268\n",
            "   macro avg       0.84      0.82      0.83       268\n",
            "weighted avg       0.84      0.84      0.84       268\n",
            "\n"
          ],
          "name": "stdout"
        }
      ]
    },
    {
      "cell_type": "markdown",
      "metadata": {
        "id": "qZAc2oey7ZoW",
        "colab_type": "text"
      },
      "source": [
        "Using 9 principal component and the best estimator from grid_search, I managed to correctly predict 88% of those who perished in the disaster and 77%."
      ]
    },
    {
      "cell_type": "markdown",
      "metadata": {
        "id": "UOs1CfdOBDVg",
        "colab_type": "text"
      },
      "source": [
        "## Summary and Recommendation\n",
        "The objective of this project was to build a model that predicts whether or not a passenger survived the titanic catastrophe. For this project to be considered a success, its metrics for success included attaining f1 scores that are higher than 80%, identifying the most important features in predicting a passenger’s survival chances, and identifying the best train_test split size for the best model accuracy.\n",
        "\n",
        "With regards to the prediction models and their F1 scores, I trained the models using an 80-20 split and a 70-30 split. In the 80-20 split, I attained the best performance while implementing PCA for feature reduction and  training the model using 9 principal components which resulted in an f1 score of 0.88 for those who perished and 0.788 for the survivors. In the 70-30 split, I attained the best performance while implementing LDA for feature reduction and training the model using 1 linear discriminant which resulted in an f1 score of 0.88 for the perished and 0.78 for the survivors. Comparing the two split sizes, I would recommend the 70-30 split and using LDA for feature reduction and grid search for model optimization as it is equally better at making predictions while relying on less training data. Regarding the importance of the different features, my models identified gender, a person’s title as either Master or Rev, and a passengers class as having the greatest influence in determining a person’s survival chances.\n",
        "\n",
        "Examining my metrics for success, the sole failure was that the f1 score for the survivors did not reach the set 80+ % suggesting I should look for more ways to optimize the model."
      ]
    },
    {
      "cell_type": "markdown",
      "metadata": {
        "id": "mqiyeqSvBM4p",
        "colab_type": "text"
      },
      "source": [
        "## Challenging the Solution\n",
        "To challenge the solution, I could try and create dummy variables for the ‘Cabin’ column which I ignored during modeling due to the large number of missing values. It is arguable that the position of a person’s cabin in the ship could affect how fast they could reach the lifeboats and whether or not they could escape in case the sink started sinking while they were still inside."
      ]
    }
  ]
}